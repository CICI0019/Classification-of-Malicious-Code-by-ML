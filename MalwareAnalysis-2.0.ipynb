{
 "cells": [
  {
   "cell_type": "markdown",
   "id": "8ec64864",
   "metadata": {},
   "source": [
    "# Malware Analysis using Machine Learning"
   ]
  },
  {
   "cell_type": "code",
   "execution_count": 32,
   "id": "ae09db9b",
   "metadata": {},
   "outputs": [],
   "source": [
    "#Credit:https://github.com/aayuv17/Malware-Analysis   "
   ]
  },
  {
   "cell_type": "code",
   "execution_count": 30,
   "id": "282f92f1",
   "metadata": {},
   "outputs": [],
   "source": [
    "import numpy as np\n",
    "import pandas as pd\n",
    "import seaborn as sns\n",
    "import matplotlib.pyplot as plt"
   ]
  },
  {
   "cell_type": "code",
   "execution_count": 29,
   "id": "f47a2931",
   "metadata": {},
   "outputs": [
    {
     "name": "stdout",
     "output_type": "stream",
     "text": [
      "#########################################\n",
      "\n",
      "#Malware Analysis using Machine Learning#\n",
      "\n",
      "#########################################\n",
      "\n"
     ]
    }
   ],
   "source": [
    "print('#########################################\\n')\n",
    "print('#Malware Analysis using Machine Learning#\\n')\n",
    "print('#########################################\\n')"
   ]
  },
  {
   "cell_type": "code",
   "execution_count": 31,
   "id": "01d8466d",
   "metadata": {},
   "outputs": [
    {
     "name": "stdout",
     "output_type": "stream",
     "text": [
      "###################################################################################################################\n",
      "\n",
      "#The classification algorithms: Gaussian Naive Bayes, RandomForestClassifier, DecisionTreeClassifier & Linear SVC.#\n",
      "\n",
      "###################################################################################################################\n",
      "\n"
     ]
    }
   ],
   "source": [
    "print('###################################################################################################################\\n')\n",
    "print('#The classification algorithms: Gaussian Naive Bayes, RandomForestClassifier, DecisionTreeClassifier & Linear SVC.#\\n')\n",
    "print('###################################################################################################################\\n')"
   ]
  },
  {
   "cell_type": "code",
   "execution_count": 4,
   "id": "e5f2f75c",
   "metadata": {},
   "outputs": [],
   "source": [
    "data = pd.read_csv('dataset_malwares.csv', sep=',')"
   ]
  },
  {
   "cell_type": "code",
   "execution_count": 5,
   "id": "b95ed707",
   "metadata": {},
   "outputs": [
    {
     "data": {
      "text/html": [
       "<div>\n",
       "<style scoped>\n",
       "    .dataframe tbody tr th:only-of-type {\n",
       "        vertical-align: middle;\n",
       "    }\n",
       "\n",
       "    .dataframe tbody tr th {\n",
       "        vertical-align: top;\n",
       "    }\n",
       "\n",
       "    .dataframe thead th {\n",
       "        text-align: right;\n",
       "    }\n",
       "</style>\n",
       "<table border=\"1\" class=\"dataframe\">\n",
       "  <thead>\n",
       "    <tr style=\"text-align: right;\">\n",
       "      <th></th>\n",
       "      <th>Name</th>\n",
       "      <th>e_magic</th>\n",
       "      <th>e_cblp</th>\n",
       "      <th>e_cp</th>\n",
       "      <th>e_crlc</th>\n",
       "      <th>e_cparhdr</th>\n",
       "      <th>e_minalloc</th>\n",
       "      <th>e_maxalloc</th>\n",
       "      <th>e_ss</th>\n",
       "      <th>e_sp</th>\n",
       "      <th>...</th>\n",
       "      <th>SectionMaxChar</th>\n",
       "      <th>SectionMainChar</th>\n",
       "      <th>DirectoryEntryImport</th>\n",
       "      <th>DirectoryEntryImportSize</th>\n",
       "      <th>DirectoryEntryExport</th>\n",
       "      <th>ImageDirectoryEntryExport</th>\n",
       "      <th>ImageDirectoryEntryImport</th>\n",
       "      <th>ImageDirectoryEntryResource</th>\n",
       "      <th>ImageDirectoryEntryException</th>\n",
       "      <th>ImageDirectoryEntrySecurity</th>\n",
       "    </tr>\n",
       "  </thead>\n",
       "  <tbody>\n",
       "    <tr>\n",
       "      <th>0</th>\n",
       "      <td>VirusShare_a878ba26000edaac5c98eff4432723b3</td>\n",
       "      <td>23117</td>\n",
       "      <td>144</td>\n",
       "      <td>3</td>\n",
       "      <td>0</td>\n",
       "      <td>4</td>\n",
       "      <td>0</td>\n",
       "      <td>65535</td>\n",
       "      <td>0</td>\n",
       "      <td>184</td>\n",
       "      <td>...</td>\n",
       "      <td>3758096608</td>\n",
       "      <td>0</td>\n",
       "      <td>7</td>\n",
       "      <td>152</td>\n",
       "      <td>0</td>\n",
       "      <td>0</td>\n",
       "      <td>54440</td>\n",
       "      <td>77824</td>\n",
       "      <td>73728</td>\n",
       "      <td>0</td>\n",
       "    </tr>\n",
       "    <tr>\n",
       "      <th>1</th>\n",
       "      <td>VirusShare_ef9130570fddc174b312b2047f5f4cf0</td>\n",
       "      <td>23117</td>\n",
       "      <td>144</td>\n",
       "      <td>3</td>\n",
       "      <td>0</td>\n",
       "      <td>4</td>\n",
       "      <td>0</td>\n",
       "      <td>65535</td>\n",
       "      <td>0</td>\n",
       "      <td>184</td>\n",
       "      <td>...</td>\n",
       "      <td>3791650880</td>\n",
       "      <td>0</td>\n",
       "      <td>16</td>\n",
       "      <td>311</td>\n",
       "      <td>0</td>\n",
       "      <td>0</td>\n",
       "      <td>262276</td>\n",
       "      <td>294912</td>\n",
       "      <td>0</td>\n",
       "      <td>346112</td>\n",
       "    </tr>\n",
       "    <tr>\n",
       "      <th>2</th>\n",
       "      <td>VirusShare_ef84cdeba22be72a69b198213dada81a</td>\n",
       "      <td>23117</td>\n",
       "      <td>144</td>\n",
       "      <td>3</td>\n",
       "      <td>0</td>\n",
       "      <td>4</td>\n",
       "      <td>0</td>\n",
       "      <td>65535</td>\n",
       "      <td>0</td>\n",
       "      <td>184</td>\n",
       "      <td>...</td>\n",
       "      <td>3221225536</td>\n",
       "      <td>0</td>\n",
       "      <td>6</td>\n",
       "      <td>176</td>\n",
       "      <td>0</td>\n",
       "      <td>0</td>\n",
       "      <td>36864</td>\n",
       "      <td>40960</td>\n",
       "      <td>0</td>\n",
       "      <td>0</td>\n",
       "    </tr>\n",
       "    <tr>\n",
       "      <th>3</th>\n",
       "      <td>VirusShare_6bf3608e60ebc16cbcff6ed5467d469e</td>\n",
       "      <td>23117</td>\n",
       "      <td>144</td>\n",
       "      <td>3</td>\n",
       "      <td>0</td>\n",
       "      <td>4</td>\n",
       "      <td>0</td>\n",
       "      <td>65535</td>\n",
       "      <td>0</td>\n",
       "      <td>184</td>\n",
       "      <td>...</td>\n",
       "      <td>3224371328</td>\n",
       "      <td>0</td>\n",
       "      <td>8</td>\n",
       "      <td>155</td>\n",
       "      <td>0</td>\n",
       "      <td>0</td>\n",
       "      <td>356352</td>\n",
       "      <td>1003520</td>\n",
       "      <td>0</td>\n",
       "      <td>14109472</td>\n",
       "    </tr>\n",
       "    <tr>\n",
       "      <th>4</th>\n",
       "      <td>VirusShare_2cc94d952b2efb13c7d6bbe0dd59d3fb</td>\n",
       "      <td>23117</td>\n",
       "      <td>144</td>\n",
       "      <td>3</td>\n",
       "      <td>0</td>\n",
       "      <td>4</td>\n",
       "      <td>0</td>\n",
       "      <td>65535</td>\n",
       "      <td>0</td>\n",
       "      <td>184</td>\n",
       "      <td>...</td>\n",
       "      <td>3227516992</td>\n",
       "      <td>0</td>\n",
       "      <td>2</td>\n",
       "      <td>43</td>\n",
       "      <td>0</td>\n",
       "      <td>0</td>\n",
       "      <td>61440</td>\n",
       "      <td>73728</td>\n",
       "      <td>0</td>\n",
       "      <td>90624</td>\n",
       "    </tr>\n",
       "  </tbody>\n",
       "</table>\n",
       "<p>5 rows × 79 columns</p>\n",
       "</div>"
      ],
      "text/plain": [
       "                                          Name  e_magic  e_cblp  e_cp  e_crlc  \\\n",
       "0  VirusShare_a878ba26000edaac5c98eff4432723b3    23117     144     3       0   \n",
       "1  VirusShare_ef9130570fddc174b312b2047f5f4cf0    23117     144     3       0   \n",
       "2  VirusShare_ef84cdeba22be72a69b198213dada81a    23117     144     3       0   \n",
       "3  VirusShare_6bf3608e60ebc16cbcff6ed5467d469e    23117     144     3       0   \n",
       "4  VirusShare_2cc94d952b2efb13c7d6bbe0dd59d3fb    23117     144     3       0   \n",
       "\n",
       "   e_cparhdr  e_minalloc  e_maxalloc  e_ss  e_sp  ...  SectionMaxChar  \\\n",
       "0          4           0       65535     0   184  ...      3758096608   \n",
       "1          4           0       65535     0   184  ...      3791650880   \n",
       "2          4           0       65535     0   184  ...      3221225536   \n",
       "3          4           0       65535     0   184  ...      3224371328   \n",
       "4          4           0       65535     0   184  ...      3227516992   \n",
       "\n",
       "   SectionMainChar  DirectoryEntryImport  DirectoryEntryImportSize  \\\n",
       "0                0                     7                       152   \n",
       "1                0                    16                       311   \n",
       "2                0                     6                       176   \n",
       "3                0                     8                       155   \n",
       "4                0                     2                        43   \n",
       "\n",
       "   DirectoryEntryExport  ImageDirectoryEntryExport  ImageDirectoryEntryImport  \\\n",
       "0                     0                          0                      54440   \n",
       "1                     0                          0                     262276   \n",
       "2                     0                          0                      36864   \n",
       "3                     0                          0                     356352   \n",
       "4                     0                          0                      61440   \n",
       "\n",
       "   ImageDirectoryEntryResource  ImageDirectoryEntryException  \\\n",
       "0                        77824                         73728   \n",
       "1                       294912                             0   \n",
       "2                        40960                             0   \n",
       "3                      1003520                             0   \n",
       "4                        73728                             0   \n",
       "\n",
       "   ImageDirectoryEntrySecurity  \n",
       "0                            0  \n",
       "1                       346112  \n",
       "2                            0  \n",
       "3                     14109472  \n",
       "4                        90624  \n",
       "\n",
       "[5 rows x 79 columns]"
      ]
     },
     "execution_count": 5,
     "metadata": {},
     "output_type": "execute_result"
    }
   ],
   "source": [
    "data.head()"
   ]
  },
  {
   "cell_type": "code",
   "execution_count": 6,
   "id": "90e3f1e6",
   "metadata": {},
   "outputs": [
    {
     "data": {
      "text/plain": [
       "(19611, 79)"
      ]
     },
     "execution_count": 6,
     "metadata": {},
     "output_type": "execute_result"
    }
   ],
   "source": [
    "data.shape"
   ]
  },
  {
   "cell_type": "code",
   "execution_count": 7,
   "id": "b40b1c7d",
   "metadata": {},
   "outputs": [
    {
     "data": {
      "text/plain": [
       "Name                            0\n",
       "e_magic                         0\n",
       "e_cblp                          0\n",
       "e_cp                            0\n",
       "e_crlc                          0\n",
       "                               ..\n",
       "ImageDirectoryEntryExport       0\n",
       "ImageDirectoryEntryImport       0\n",
       "ImageDirectoryEntryResource     0\n",
       "ImageDirectoryEntryException    0\n",
       "ImageDirectoryEntrySecurity     0\n",
       "Length: 79, dtype: int64"
      ]
     },
     "execution_count": 7,
     "metadata": {},
     "output_type": "execute_result"
    }
   ],
   "source": [
    "data.isnull().sum()"
   ]
  },
  {
   "cell_type": "code",
   "execution_count": 8,
   "id": "8fc74ca7",
   "metadata": {},
   "outputs": [
    {
     "data": {
      "text/plain": [
       "1    14599\n",
       "0     5012\n",
       "Name: Malware, dtype: int64"
      ]
     },
     "execution_count": 8,
     "metadata": {},
     "output_type": "execute_result"
    }
   ],
   "source": [
    "data[\"Malware\"].value_counts()"
   ]
  },
  {
   "cell_type": "code",
   "execution_count": 9,
   "id": "2174993c",
   "metadata": {},
   "outputs": [
    {
     "name": "stderr",
     "output_type": "stream",
     "text": [
      "C:\\Users\\CICI\\anaconda3\\lib\\site-packages\\seaborn\\_decorators.py:36: FutureWarning: Pass the following variable as a keyword arg: x. From version 0.12, the only valid positional argument will be `data`, and passing other arguments without an explicit keyword will result in an error or misinterpretation.\n",
      "  warnings.warn(\n"
     ]
    },
    {
     "data": {
      "image/png": "[encoded data removed]",
      "text/plain": [
       "<Figure size 640x480 with 1 Axes>"
      ]
     },
     "metadata": {},
     "output_type": "display_data"
    }
   ],
   "source": [
    "sns.countplot(data[\"Malware\"])\n",
    "plt.show()"
   ]
  },
  {
   "cell_type": "code",
   "execution_count": 10,
   "id": "42102923",
   "metadata": {},
   "outputs": [
    {
     "data": {
      "image/png": "[encoded data removed]",
      "text/plain": [
       "<Figure size 640x480 with 1 Axes>"
      ]
     },
     "metadata": {},
     "output_type": "display_data"
    }
   ],
   "source": [
    "data[\"Malware\"].value_counts().plot(kind=\"pie\",autopct=\"%1.1f%%\")\n",
    "plt.axis(\"equal\")\n",
    "plt.show()"
   ]
  },
  {
   "cell_type": "code",
   "execution_count": 12,
   "id": "f7a46f17",
   "metadata": {},
   "outputs": [
    {
     "data": {
      "text/html": [
       "<div>\n",
       "<style scoped>\n",
       "    .dataframe tbody tr th:only-of-type {\n",
       "        vertical-align: middle;\n",
       "    }\n",
       "\n",
       "    .dataframe tbody tr th {\n",
       "        vertical-align: top;\n",
       "    }\n",
       "\n",
       "    .dataframe thead th {\n",
       "        text-align: right;\n",
       "    }\n",
       "</style>\n",
       "<table border=\"1\" class=\"dataframe\">\n",
       "  <thead>\n",
       "    <tr style=\"text-align: right;\">\n",
       "      <th></th>\n",
       "      <th>Name</th>\n",
       "      <th>e_magic</th>\n",
       "      <th>e_cblp</th>\n",
       "      <th>e_cp</th>\n",
       "      <th>e_crlc</th>\n",
       "      <th>e_cparhdr</th>\n",
       "      <th>e_minalloc</th>\n",
       "      <th>e_maxalloc</th>\n",
       "      <th>e_ss</th>\n",
       "      <th>e_sp</th>\n",
       "      <th>...</th>\n",
       "      <th>SectionMaxChar</th>\n",
       "      <th>SectionMainChar</th>\n",
       "      <th>DirectoryEntryImport</th>\n",
       "      <th>DirectoryEntryImportSize</th>\n",
       "      <th>DirectoryEntryExport</th>\n",
       "      <th>ImageDirectoryEntryExport</th>\n",
       "      <th>ImageDirectoryEntryImport</th>\n",
       "      <th>ImageDirectoryEntryResource</th>\n",
       "      <th>ImageDirectoryEntryException</th>\n",
       "      <th>ImageDirectoryEntrySecurity</th>\n",
       "    </tr>\n",
       "  </thead>\n",
       "  <tbody>\n",
       "    <tr>\n",
       "      <th>0</th>\n",
       "      <td>VirusShare_a878ba26000edaac5c98eff4432723b3</td>\n",
       "      <td>23117</td>\n",
       "      <td>144</td>\n",
       "      <td>3</td>\n",
       "      <td>0</td>\n",
       "      <td>4</td>\n",
       "      <td>0</td>\n",
       "      <td>65535</td>\n",
       "      <td>0</td>\n",
       "      <td>184</td>\n",
       "      <td>...</td>\n",
       "      <td>3758096608</td>\n",
       "      <td>0</td>\n",
       "      <td>7</td>\n",
       "      <td>152</td>\n",
       "      <td>0</td>\n",
       "      <td>0</td>\n",
       "      <td>54440</td>\n",
       "      <td>77824</td>\n",
       "      <td>73728</td>\n",
       "      <td>0</td>\n",
       "    </tr>\n",
       "    <tr>\n",
       "      <th>1</th>\n",
       "      <td>VirusShare_ef9130570fddc174b312b2047f5f4cf0</td>\n",
       "      <td>23117</td>\n",
       "      <td>144</td>\n",
       "      <td>3</td>\n",
       "      <td>0</td>\n",
       "      <td>4</td>\n",
       "      <td>0</td>\n",
       "      <td>65535</td>\n",
       "      <td>0</td>\n",
       "      <td>184</td>\n",
       "      <td>...</td>\n",
       "      <td>3791650880</td>\n",
       "      <td>0</td>\n",
       "      <td>16</td>\n",
       "      <td>311</td>\n",
       "      <td>0</td>\n",
       "      <td>0</td>\n",
       "      <td>262276</td>\n",
       "      <td>294912</td>\n",
       "      <td>0</td>\n",
       "      <td>346112</td>\n",
       "    </tr>\n",
       "    <tr>\n",
       "      <th>2</th>\n",
       "      <td>VirusShare_ef84cdeba22be72a69b198213dada81a</td>\n",
       "      <td>23117</td>\n",
       "      <td>144</td>\n",
       "      <td>3</td>\n",
       "      <td>0</td>\n",
       "      <td>4</td>\n",
       "      <td>0</td>\n",
       "      <td>65535</td>\n",
       "      <td>0</td>\n",
       "      <td>184</td>\n",
       "      <td>...</td>\n",
       "      <td>3221225536</td>\n",
       "      <td>0</td>\n",
       "      <td>6</td>\n",
       "      <td>176</td>\n",
       "      <td>0</td>\n",
       "      <td>0</td>\n",
       "      <td>36864</td>\n",
       "      <td>40960</td>\n",
       "      <td>0</td>\n",
       "      <td>0</td>\n",
       "    </tr>\n",
       "    <tr>\n",
       "      <th>3</th>\n",
       "      <td>VirusShare_6bf3608e60ebc16cbcff6ed5467d469e</td>\n",
       "      <td>23117</td>\n",
       "      <td>144</td>\n",
       "      <td>3</td>\n",
       "      <td>0</td>\n",
       "      <td>4</td>\n",
       "      <td>0</td>\n",
       "      <td>65535</td>\n",
       "      <td>0</td>\n",
       "      <td>184</td>\n",
       "      <td>...</td>\n",
       "      <td>3224371328</td>\n",
       "      <td>0</td>\n",
       "      <td>8</td>\n",
       "      <td>155</td>\n",
       "      <td>0</td>\n",
       "      <td>0</td>\n",
       "      <td>356352</td>\n",
       "      <td>1003520</td>\n",
       "      <td>0</td>\n",
       "      <td>14109472</td>\n",
       "    </tr>\n",
       "    <tr>\n",
       "      <th>4</th>\n",
       "      <td>VirusShare_2cc94d952b2efb13c7d6bbe0dd59d3fb</td>\n",
       "      <td>23117</td>\n",
       "      <td>144</td>\n",
       "      <td>3</td>\n",
       "      <td>0</td>\n",
       "      <td>4</td>\n",
       "      <td>0</td>\n",
       "      <td>65535</td>\n",
       "      <td>0</td>\n",
       "      <td>184</td>\n",
       "      <td>...</td>\n",
       "      <td>3227516992</td>\n",
       "      <td>0</td>\n",
       "      <td>2</td>\n",
       "      <td>43</td>\n",
       "      <td>0</td>\n",
       "      <td>0</td>\n",
       "      <td>61440</td>\n",
       "      <td>73728</td>\n",
       "      <td>0</td>\n",
       "      <td>90624</td>\n",
       "    </tr>\n",
       "  </tbody>\n",
       "</table>\n",
       "<p>5 rows × 79 columns</p>\n",
       "</div>"
      ],
      "text/plain": [
       "                                          Name  e_magic  e_cblp  e_cp  e_crlc  \\\n",
       "0  VirusShare_a878ba26000edaac5c98eff4432723b3    23117     144     3       0   \n",
       "1  VirusShare_ef9130570fddc174b312b2047f5f4cf0    23117     144     3       0   \n",
       "2  VirusShare_ef84cdeba22be72a69b198213dada81a    23117     144     3       0   \n",
       "3  VirusShare_6bf3608e60ebc16cbcff6ed5467d469e    23117     144     3       0   \n",
       "4  VirusShare_2cc94d952b2efb13c7d6bbe0dd59d3fb    23117     144     3       0   \n",
       "\n",
       "   e_cparhdr  e_minalloc  e_maxalloc  e_ss  e_sp  ...  SectionMaxChar  \\\n",
       "0          4           0       65535     0   184  ...      3758096608   \n",
       "1          4           0       65535     0   184  ...      3791650880   \n",
       "2          4           0       65535     0   184  ...      3221225536   \n",
       "3          4           0       65535     0   184  ...      3224371328   \n",
       "4          4           0       65535     0   184  ...      3227516992   \n",
       "\n",
       "   SectionMainChar  DirectoryEntryImport  DirectoryEntryImportSize  \\\n",
       "0                0                     7                       152   \n",
       "1                0                    16                       311   \n",
       "2                0                     6                       176   \n",
       "3                0                     8                       155   \n",
       "4                0                     2                        43   \n",
       "\n",
       "   DirectoryEntryExport  ImageDirectoryEntryExport  ImageDirectoryEntryImport  \\\n",
       "0                     0                          0                      54440   \n",
       "1                     0                          0                     262276   \n",
       "2                     0                          0                      36864   \n",
       "3                     0                          0                     356352   \n",
       "4                     0                          0                      61440   \n",
       "\n",
       "   ImageDirectoryEntryResource  ImageDirectoryEntryException  \\\n",
       "0                        77824                         73728   \n",
       "1                       294912                             0   \n",
       "2                        40960                             0   \n",
       "3                      1003520                             0   \n",
       "4                        73728                             0   \n",
       "\n",
       "   ImageDirectoryEntrySecurity  \n",
       "0                            0  \n",
       "1                       346112  \n",
       "2                            0  \n",
       "3                     14109472  \n",
       "4                        90624  \n",
       "\n",
       "[5 rows x 79 columns]"
      ]
     },
     "execution_count": 12,
     "metadata": {},
     "output_type": "execute_result"
    }
   ],
   "source": [
    "Data=data.dropna(how=\"any\",axis=0)\n",
    "Data.head()"
   ]
  },
  {
   "cell_type": "code",
   "execution_count": 13,
   "id": "c7ad76cf",
   "metadata": {},
   "outputs": [],
   "source": [
    "X = Data.drop(['Name','Malware','e_magic','e_cblp','e_cp','e_crlc','e_cparhdr','e_minalloc','e_maxalloc','e_ss','e_sp','e_csum','e_ip','e_cs','e_lfarlc','e_ovno','e_oemid','e_lfanew','e_oeminfo'],axis=1)\n",
    "Y = Data['Malware']"
   ]
  },
  {
   "cell_type": "code",
   "execution_count": 14,
   "id": "dd80420b",
   "metadata": {},
   "outputs": [
    {
     "data": {
      "text/html": [
       "<div>\n",
       "<style scoped>\n",
       "    .dataframe tbody tr th:only-of-type {\n",
       "        vertical-align: middle;\n",
       "    }\n",
       "\n",
       "    .dataframe tbody tr th {\n",
       "        vertical-align: top;\n",
       "    }\n",
       "\n",
       "    .dataframe thead th {\n",
       "        text-align: right;\n",
       "    }\n",
       "</style>\n",
       "<table border=\"1\" class=\"dataframe\">\n",
       "  <thead>\n",
       "    <tr style=\"text-align: right;\">\n",
       "      <th></th>\n",
       "      <th>Machine</th>\n",
       "      <th>NumberOfSections</th>\n",
       "      <th>TimeDateStamp</th>\n",
       "      <th>PointerToSymbolTable</th>\n",
       "      <th>NumberOfSymbols</th>\n",
       "      <th>SizeOfOptionalHeader</th>\n",
       "      <th>Characteristics</th>\n",
       "      <th>Magic</th>\n",
       "      <th>MajorLinkerVersion</th>\n",
       "      <th>MinorLinkerVersion</th>\n",
       "      <th>...</th>\n",
       "      <th>SectionMaxChar</th>\n",
       "      <th>SectionMainChar</th>\n",
       "      <th>DirectoryEntryImport</th>\n",
       "      <th>DirectoryEntryImportSize</th>\n",
       "      <th>DirectoryEntryExport</th>\n",
       "      <th>ImageDirectoryEntryExport</th>\n",
       "      <th>ImageDirectoryEntryImport</th>\n",
       "      <th>ImageDirectoryEntryResource</th>\n",
       "      <th>ImageDirectoryEntryException</th>\n",
       "      <th>ImageDirectoryEntrySecurity</th>\n",
       "    </tr>\n",
       "  </thead>\n",
       "  <tbody>\n",
       "    <tr>\n",
       "      <th>17893</th>\n",
       "      <td>332</td>\n",
       "      <td>5</td>\n",
       "      <td>1377139106</td>\n",
       "      <td>0</td>\n",
       "      <td>0</td>\n",
       "      <td>224</td>\n",
       "      <td>8450</td>\n",
       "      <td>267</td>\n",
       "      <td>11</td>\n",
       "      <td>0</td>\n",
       "      <td>...</td>\n",
       "      <td>3221225536</td>\n",
       "      <td>0</td>\n",
       "      <td>22</td>\n",
       "      <td>131</td>\n",
       "      <td>30</td>\n",
       "      <td>4752</td>\n",
       "      <td>275044</td>\n",
       "      <td>282624</td>\n",
       "      <td>0</td>\n",
       "      <td>0</td>\n",
       "    </tr>\n",
       "    <tr>\n",
       "      <th>5886</th>\n",
       "      <td>332</td>\n",
       "      <td>8</td>\n",
       "      <td>1444487823</td>\n",
       "      <td>0</td>\n",
       "      <td>0</td>\n",
       "      <td>224</td>\n",
       "      <td>33167</td>\n",
       "      <td>267</td>\n",
       "      <td>2</td>\n",
       "      <td>25</td>\n",
       "      <td>...</td>\n",
       "      <td>3221225536</td>\n",
       "      <td>0</td>\n",
       "      <td>11</td>\n",
       "      <td>120</td>\n",
       "      <td>0</td>\n",
       "      <td>0</td>\n",
       "      <td>102400</td>\n",
       "      <td>114688</td>\n",
       "      <td>0</td>\n",
       "      <td>4155064</td>\n",
       "    </tr>\n",
       "    <tr>\n",
       "      <th>17817</th>\n",
       "      <td>332</td>\n",
       "      <td>5</td>\n",
       "      <td>1377142686</td>\n",
       "      <td>0</td>\n",
       "      <td>0</td>\n",
       "      <td>224</td>\n",
       "      <td>8450</td>\n",
       "      <td>267</td>\n",
       "      <td>11</td>\n",
       "      <td>0</td>\n",
       "      <td>...</td>\n",
       "      <td>3221225536</td>\n",
       "      <td>0</td>\n",
       "      <td>11</td>\n",
       "      <td>315</td>\n",
       "      <td>3</td>\n",
       "      <td>163264</td>\n",
       "      <td>173336</td>\n",
       "      <td>180224</td>\n",
       "      <td>0</td>\n",
       "      <td>0</td>\n",
       "    </tr>\n",
       "    <tr>\n",
       "      <th>5511</th>\n",
       "      <td>332</td>\n",
       "      <td>10</td>\n",
       "      <td>708992537</td>\n",
       "      <td>0</td>\n",
       "      <td>0</td>\n",
       "      <td>224</td>\n",
       "      <td>33166</td>\n",
       "      <td>267</td>\n",
       "      <td>2</td>\n",
       "      <td>25</td>\n",
       "      <td>...</td>\n",
       "      <td>3221225536</td>\n",
       "      <td>0</td>\n",
       "      <td>20</td>\n",
       "      <td>536</td>\n",
       "      <td>0</td>\n",
       "      <td>0</td>\n",
       "      <td>1675264</td>\n",
       "      <td>1839104</td>\n",
       "      <td>0</td>\n",
       "      <td>0</td>\n",
       "    </tr>\n",
       "    <tr>\n",
       "      <th>2706</th>\n",
       "      <td>332</td>\n",
       "      <td>7</td>\n",
       "      <td>1386789760</td>\n",
       "      <td>0</td>\n",
       "      <td>0</td>\n",
       "      <td>224</td>\n",
       "      <td>783</td>\n",
       "      <td>267</td>\n",
       "      <td>2</td>\n",
       "      <td>56</td>\n",
       "      <td>...</td>\n",
       "      <td>3227516992</td>\n",
       "      <td>0</td>\n",
       "      <td>2</td>\n",
       "      <td>43</td>\n",
       "      <td>0</td>\n",
       "      <td>0</td>\n",
       "      <td>65536</td>\n",
       "      <td>77824</td>\n",
       "      <td>0</td>\n",
       "      <td>91136</td>\n",
       "    </tr>\n",
       "  </tbody>\n",
       "</table>\n",
       "<p>5 rows × 60 columns</p>\n",
       "</div>"
      ],
      "text/plain": [
       "       Machine  NumberOfSections  TimeDateStamp  PointerToSymbolTable  \\\n",
       "17893      332                 5     1377139106                     0   \n",
       "5886       332                 8     1444487823                     0   \n",
       "17817      332                 5     1377142686                     0   \n",
       "5511       332                10      708992537                     0   \n",
       "2706       332                 7     1386789760                     0   \n",
       "\n",
       "       NumberOfSymbols  SizeOfOptionalHeader  Characteristics  Magic  \\\n",
       "17893                0                   224             8450    267   \n",
       "5886                 0                   224            33167    267   \n",
       "17817                0                   224             8450    267   \n",
       "5511                 0                   224            33166    267   \n",
       "2706                 0                   224              783    267   \n",
       "\n",
       "       MajorLinkerVersion  MinorLinkerVersion  ...  SectionMaxChar  \\\n",
       "17893                  11                   0  ...      3221225536   \n",
       "5886                    2                  25  ...      3221225536   \n",
       "17817                  11                   0  ...      3221225536   \n",
       "5511                    2                  25  ...      3221225536   \n",
       "2706                    2                  56  ...      3227516992   \n",
       "\n",
       "       SectionMainChar  DirectoryEntryImport  DirectoryEntryImportSize  \\\n",
       "17893                0                    22                       131   \n",
       "5886                 0                    11                       120   \n",
       "17817                0                    11                       315   \n",
       "5511                 0                    20                       536   \n",
       "2706                 0                     2                        43   \n",
       "\n",
       "       DirectoryEntryExport  ImageDirectoryEntryExport  \\\n",
       "17893                    30                       4752   \n",
       "5886                      0                          0   \n",
       "17817                     3                     163264   \n",
       "5511                      0                          0   \n",
       "2706                      0                          0   \n",
       "\n",
       "       ImageDirectoryEntryImport  ImageDirectoryEntryResource  \\\n",
       "17893                     275044                       282624   \n",
       "5886                      102400                       114688   \n",
       "17817                     173336                       180224   \n",
       "5511                     1675264                      1839104   \n",
       "2706                       65536                        77824   \n",
       "\n",
       "       ImageDirectoryEntryException  ImageDirectoryEntrySecurity  \n",
       "17893                             0                            0  \n",
       "5886                              0                      4155064  \n",
       "17817                             0                            0  \n",
       "5511                              0                            0  \n",
       "2706                              0                        91136  \n",
       "\n",
       "[5 rows x 60 columns]"
      ]
     },
     "execution_count": 14,
     "metadata": {},
     "output_type": "execute_result"
    }
   ],
   "source": [
    "from sklearn.model_selection import train_test_split\n",
    "X_train, X_test, Y_train, Y_test= train_test_split(X, Y, test_size=0.2, random_state=1)\n",
    "X_train.head()"
   ]
  },
  {
   "cell_type": "code",
   "execution_count": 15,
   "id": "309d3a41",
   "metadata": {},
   "outputs": [],
   "source": [
    "from sklearn.preprocessing import StandardScaler\n",
    "scaler = StandardScaler()\n",
    "X_scaled = scaler.fit_transform(X_train)"
   ]
  },
  {
   "cell_type": "code",
   "execution_count": 16,
   "id": "b7a6a8eb",
   "metadata": {},
   "outputs": [],
   "source": [
    "#performing Gaussian Naive Bayes on the training data\n",
    "from sklearn.naive_bayes import GaussianNB\n",
    "gnb=GaussianNB()"
   ]
  },
  {
   "cell_type": "code",
   "execution_count": 17,
   "id": "83916362",
   "metadata": {},
   "outputs": [
    {
     "data": {
      "text/plain": [
       "GaussianNB()"
      ]
     },
     "execution_count": 17,
     "metadata": {},
     "output_type": "execute_result"
    }
   ],
   "source": [
    "gnb.fit(X_scaled, Y_train)"
   ]
  },
  {
   "cell_type": "code",
   "execution_count": 18,
   "id": "e81c6349",
   "metadata": {},
   "outputs": [
    {
     "name": "stderr",
     "output_type": "stream",
     "text": [
      "C:\\Users\\CICI\\anaconda3\\lib\\site-packages\\sklearn\\base.py:443: UserWarning: X has feature names, but GaussianNB was fitted without feature names\n",
      "  warnings.warn(\n"
     ]
    }
   ],
   "source": [
    "Y_pred=gnb.predict(X_test)"
   ]
  },
  {
   "cell_type": "code",
   "execution_count": 19,
   "id": "a520c5ff",
   "metadata": {},
   "outputs": [
    {
     "name": "stdout",
     "output_type": "stream",
     "text": [
      "Gaussian Naive Bayes model accuracy(in %): 32.24573030843742\n"
     ]
    }
   ],
   "source": [
    "from sklearn import metrics \n",
    "print(\"Gaussian Naive Bayes model accuracy(in %):\", metrics.accuracy_score(Y_test, Y_pred)*100)"
   ]
  },
  {
   "cell_type": "code",
   "execution_count": 20,
   "id": "4d328bc1",
   "metadata": {},
   "outputs": [
    {
     "data": {
      "text/html": [
       "<div>\n",
       "<style scoped>\n",
       "    .dataframe tbody tr th:only-of-type {\n",
       "        vertical-align: middle;\n",
       "    }\n",
       "\n",
       "    .dataframe tbody tr th {\n",
       "        vertical-align: top;\n",
       "    }\n",
       "\n",
       "    .dataframe thead th {\n",
       "        text-align: right;\n",
       "    }\n",
       "</style>\n",
       "<table border=\"1\" class=\"dataframe\">\n",
       "  <thead>\n",
       "    <tr style=\"text-align: right;\">\n",
       "      <th></th>\n",
       "      <th>Machine</th>\n",
       "      <th>NumberOfSections</th>\n",
       "      <th>TimeDateStamp</th>\n",
       "      <th>PointerToSymbolTable</th>\n",
       "      <th>NumberOfSymbols</th>\n",
       "      <th>SizeOfOptionalHeader</th>\n",
       "      <th>Characteristics</th>\n",
       "      <th>Magic</th>\n",
       "      <th>MajorLinkerVersion</th>\n",
       "      <th>MinorLinkerVersion</th>\n",
       "      <th>...</th>\n",
       "      <th>SectionMaxChar</th>\n",
       "      <th>SectionMainChar</th>\n",
       "      <th>DirectoryEntryImport</th>\n",
       "      <th>DirectoryEntryImportSize</th>\n",
       "      <th>DirectoryEntryExport</th>\n",
       "      <th>ImageDirectoryEntryExport</th>\n",
       "      <th>ImageDirectoryEntryImport</th>\n",
       "      <th>ImageDirectoryEntryResource</th>\n",
       "      <th>ImageDirectoryEntryException</th>\n",
       "      <th>ImageDirectoryEntrySecurity</th>\n",
       "    </tr>\n",
       "  </thead>\n",
       "  <tbody>\n",
       "    <tr>\n",
       "      <th>0</th>\n",
       "      <td>-0.392155</td>\n",
       "      <td>-0.016538</td>\n",
       "      <td>0.325785</td>\n",
       "      <td>-0.052302</td>\n",
       "      <td>-0.060402</td>\n",
       "      <td>-0.36258</td>\n",
       "      <td>0.307327</td>\n",
       "      <td>-0.392153</td>\n",
       "      <td>0.226389</td>\n",
       "      <td>-0.291134</td>\n",
       "      <td>...</td>\n",
       "      <td>0.099546</td>\n",
       "      <td>0.0</td>\n",
       "      <td>2.039182</td>\n",
       "      <td>0.230372</td>\n",
       "      <td>0.099510</td>\n",
       "      <td>-0.016337</td>\n",
       "      <td>-0.027940</td>\n",
       "      <td>-0.075525</td>\n",
       "      <td>-0.022022</td>\n",
       "      <td>-0.041694</td>\n",
       "    </tr>\n",
       "    <tr>\n",
       "      <th>1</th>\n",
       "      <td>-0.392155</td>\n",
       "      <td>1.385853</td>\n",
       "      <td>0.559229</td>\n",
       "      <td>-0.052302</td>\n",
       "      <td>-0.060402</td>\n",
       "      <td>-0.36258</td>\n",
       "      <td>2.913874</td>\n",
       "      <td>-0.392153</td>\n",
       "      <td>-0.691993</td>\n",
       "      <td>1.139815</td>\n",
       "      <td>...</td>\n",
       "      <td>0.099546</td>\n",
       "      <td>0.0</td>\n",
       "      <td>0.627385</td>\n",
       "      <td>0.143536</td>\n",
       "      <td>-0.090459</td>\n",
       "      <td>-0.016531</td>\n",
       "      <td>-0.063052</td>\n",
       "      <td>-0.129191</td>\n",
       "      <td>-0.022022</td>\n",
       "      <td>0.156339</td>\n",
       "    </tr>\n",
       "    <tr>\n",
       "      <th>2</th>\n",
       "      <td>-0.392155</td>\n",
       "      <td>-0.016538</td>\n",
       "      <td>0.325797</td>\n",
       "      <td>-0.052302</td>\n",
       "      <td>-0.060402</td>\n",
       "      <td>-0.36258</td>\n",
       "      <td>0.307327</td>\n",
       "      <td>-0.392153</td>\n",
       "      <td>0.226389</td>\n",
       "      <td>-0.291134</td>\n",
       "      <td>...</td>\n",
       "      <td>0.099546</td>\n",
       "      <td>0.0</td>\n",
       "      <td>0.627385</td>\n",
       "      <td>1.682895</td>\n",
       "      <td>-0.071462</td>\n",
       "      <td>-0.009836</td>\n",
       "      <td>-0.048625</td>\n",
       "      <td>-0.108248</td>\n",
       "      <td>-0.022022</td>\n",
       "      <td>-0.041694</td>\n",
       "    </tr>\n",
       "    <tr>\n",
       "      <th>3</th>\n",
       "      <td>-0.392155</td>\n",
       "      <td>2.320780</td>\n",
       "      <td>-1.990146</td>\n",
       "      <td>-0.052302</td>\n",
       "      <td>-0.060402</td>\n",
       "      <td>-0.36258</td>\n",
       "      <td>2.913769</td>\n",
       "      <td>-0.392153</td>\n",
       "      <td>-0.691993</td>\n",
       "      <td>1.139815</td>\n",
       "      <td>...</td>\n",
       "      <td>0.099546</td>\n",
       "      <td>0.0</td>\n",
       "      <td>1.782492</td>\n",
       "      <td>3.427501</td>\n",
       "      <td>-0.090459</td>\n",
       "      <td>-0.016531</td>\n",
       "      <td>0.256838</td>\n",
       "      <td>0.421864</td>\n",
       "      <td>-0.022022</td>\n",
       "      <td>-0.041694</td>\n",
       "    </tr>\n",
       "    <tr>\n",
       "      <th>4</th>\n",
       "      <td>-0.392155</td>\n",
       "      <td>0.918389</td>\n",
       "      <td>0.359236</td>\n",
       "      <td>-0.052302</td>\n",
       "      <td>-0.060402</td>\n",
       "      <td>-0.36258</td>\n",
       "      <td>-0.501202</td>\n",
       "      <td>-0.392153</td>\n",
       "      <td>-0.691993</td>\n",
       "      <td>2.914192</td>\n",
       "      <td>...</td>\n",
       "      <td>0.110306</td>\n",
       "      <td>0.0</td>\n",
       "      <td>-0.527722</td>\n",
       "      <td>-0.464313</td>\n",
       "      <td>-0.090459</td>\n",
       "      <td>-0.016531</td>\n",
       "      <td>-0.070550</td>\n",
       "      <td>-0.140971</td>\n",
       "      <td>-0.022022</td>\n",
       "      <td>-0.037351</td>\n",
       "    </tr>\n",
       "  </tbody>\n",
       "</table>\n",
       "<p>5 rows × 60 columns</p>\n",
       "</div>"
      ],
      "text/plain": [
       "    Machine  NumberOfSections  TimeDateStamp  PointerToSymbolTable  \\\n",
       "0 -0.392155         -0.016538       0.325785             -0.052302   \n",
       "1 -0.392155          1.385853       0.559229             -0.052302   \n",
       "2 -0.392155         -0.016538       0.325797             -0.052302   \n",
       "3 -0.392155          2.320780      -1.990146             -0.052302   \n",
       "4 -0.392155          0.918389       0.359236             -0.052302   \n",
       "\n",
       "   NumberOfSymbols  SizeOfOptionalHeader  Characteristics     Magic  \\\n",
       "0        -0.060402              -0.36258         0.307327 -0.392153   \n",
       "1        -0.060402              -0.36258         2.913874 -0.392153   \n",
       "2        -0.060402              -0.36258         0.307327 -0.392153   \n",
       "3        -0.060402              -0.36258         2.913769 -0.392153   \n",
       "4        -0.060402              -0.36258        -0.501202 -0.392153   \n",
       "\n",
       "   MajorLinkerVersion  MinorLinkerVersion  ...  SectionMaxChar  \\\n",
       "0            0.226389           -0.291134  ...        0.099546   \n",
       "1           -0.691993            1.139815  ...        0.099546   \n",
       "2            0.226389           -0.291134  ...        0.099546   \n",
       "3           -0.691993            1.139815  ...        0.099546   \n",
       "4           -0.691993            2.914192  ...        0.110306   \n",
       "\n",
       "   SectionMainChar  DirectoryEntryImport  DirectoryEntryImportSize  \\\n",
       "0              0.0              2.039182                  0.230372   \n",
       "1              0.0              0.627385                  0.143536   \n",
       "2              0.0              0.627385                  1.682895   \n",
       "3              0.0              1.782492                  3.427501   \n",
       "4              0.0             -0.527722                 -0.464313   \n",
       "\n",
       "   DirectoryEntryExport  ImageDirectoryEntryExport  ImageDirectoryEntryImport  \\\n",
       "0              0.099510                  -0.016337                  -0.027940   \n",
       "1             -0.090459                  -0.016531                  -0.063052   \n",
       "2             -0.071462                  -0.009836                  -0.048625   \n",
       "3             -0.090459                  -0.016531                   0.256838   \n",
       "4             -0.090459                  -0.016531                  -0.070550   \n",
       "\n",
       "   ImageDirectoryEntryResource  ImageDirectoryEntryException  \\\n",
       "0                    -0.075525                     -0.022022   \n",
       "1                    -0.129191                     -0.022022   \n",
       "2                    -0.108248                     -0.022022   \n",
       "3                     0.421864                     -0.022022   \n",
       "4                    -0.140971                     -0.022022   \n",
       "\n",
       "   ImageDirectoryEntrySecurity  \n",
       "0                    -0.041694  \n",
       "1                     0.156339  \n",
       "2                    -0.041694  \n",
       "3                    -0.041694  \n",
       "4                    -0.037351  \n",
       "\n",
       "[5 rows x 60 columns]"
      ]
     },
     "execution_count": 20,
     "metadata": {},
     "output_type": "execute_result"
    }
   ],
   "source": [
    "#accuracy is quite low using Naive Bayes algorithm.\n",
    "#creating new dataframe to implement Random Forest Classifier\n",
    "X_new = pd.DataFrame(X_scaled, columns=X.columns)\n",
    "X_new.head()"
   ]
  },
  {
   "cell_type": "code",
   "execution_count": 21,
   "id": "7cc1d9d8",
   "metadata": {},
   "outputs": [
    {
     "name": "stdout",
     "output_type": "stream",
     "text": [
      "Variance sum :  1.0000000000000002\n"
     ]
    }
   ],
   "source": [
    "#using Principal Component Analysis to increase interpretability\n",
    "from sklearn.decomposition import PCA\n",
    "skpca = PCA(n_components=60)\n",
    "X_pca = skpca.fit_transform(X_new)\n",
    "print('Variance sum : ', skpca.explained_variance_ratio_.cumsum()[-1])"
   ]
  },
  {
   "cell_type": "code",
   "execution_count": 22,
   "id": "87bb1e84",
   "metadata": {},
   "outputs": [],
   "source": [
    "from sklearn.ensemble import RandomForestClassifier as RFC\n",
    "from sklearn.metrics import classification_report, confusion_matrix"
   ]
  },
  {
   "cell_type": "code",
   "execution_count": 23,
   "id": "90f47877",
   "metadata": {},
   "outputs": [
    {
     "name": "stdout",
     "output_type": "stream",
     "text": [
      "              precision    recall  f1-score   support\n",
      "\n",
      "           0       0.96      0.98      0.97       960\n",
      "           1       0.99      0.99      0.99      2963\n",
      "\n",
      "    accuracy                           0.98      3923\n",
      "   macro avg       0.98      0.98      0.98      3923\n",
      "weighted avg       0.98      0.98      0.98      3923\n",
      "\n"
     ]
    }
   ],
   "source": [
    "model = RFC(n_estimators=100, random_state=0, \n",
    "                         oob_score = True,\n",
    "                         max_depth = 16, \n",
    "                         max_features = 'sqrt')\n",
    "model.fit(X_pca, Y_train)\n",
    "\n",
    "X_test_scaled = scaler.transform(X_test)\n",
    "X_test_new = pd.DataFrame(X_test_scaled, columns=X.columns)\n",
    "X_test_pca = skpca.transform(X_test_new)\n",
    "\n",
    "Y_pred = model.predict(X_test_pca)\n",
    "print(classification_report(Y_pred, Y_test))"
   ]
  },
  {
   "cell_type": "code",
   "execution_count": 24,
   "id": "8dea23b5",
   "metadata": {},
   "outputs": [
    {
     "name": "stdout",
     "output_type": "stream",
     "text": [
      "Random Forest model accuracy(in %): 98.44506755034412\n"
     ]
    }
   ],
   "source": [
    "print(\"Random Forest model accuracy(in %):\", metrics.accuracy_score(Y_test, Y_pred)*100)"
   ]
  },
  {
   "cell_type": "code",
   "execution_count": 25,
   "id": "179d98a3",
   "metadata": {},
   "outputs": [
    {
     "data": {
      "text/plain": [
       "<AxesSubplot:>"
      ]
     },
     "execution_count": 25,
     "metadata": {},
     "output_type": "execute_result"
    },
    {
     "data": {
      "image/png": "[encoded data removed]",
      "text/plain": [
       "<Figure size 640x480 with 1 Axes>"
      ]
     },
     "metadata": {},
     "output_type": "display_data"
    }
   ],
   "source": [
    "sns.heatmap(confusion_matrix(Y_pred, Y_test), annot=True, fmt=\"d\", cmap=plt.cm.Blues, cbar=False)"
   ]
  },
  {
   "cell_type": "code",
   "execution_count": 26,
   "id": "9070ffba",
   "metadata": {},
   "outputs": [
    {
     "name": "stdout",
     "output_type": "stream",
     "text": [
      "Accuracy: 71.32296711700229\n"
     ]
    },
    {
     "name": "stderr",
     "output_type": "stream",
     "text": [
      "C:\\Users\\CICI\\anaconda3\\lib\\site-packages\\sklearn\\base.py:443: UserWarning: X has feature names, but DecisionTreeClassifier was fitted without feature names\n",
      "  warnings.warn(\n"
     ]
    }
   ],
   "source": [
    "from sklearn.tree import DecisionTreeClassifier\n",
    "from sklearn import metrics\n",
    "clf = DecisionTreeClassifier()\n",
    "clf = clf.fit(X_scaled,Y_train)\n",
    "Y_pred = clf.predict(X_test)\n",
    "print(\"Accuracy:\",metrics.accuracy_score(Y_test, Y_pred)*100)"
   ]
  },
  {
   "cell_type": "code",
   "execution_count": 27,
   "id": "7468fb27",
   "metadata": {},
   "outputs": [
    {
     "name": "stdout",
     "output_type": "stream",
     "text": [
      "[[ 4553   459]\n",
      " [  312 14287]]\n"
     ]
    }
   ],
   "source": [
    "X_scaled=scaler.fit_transform(X)\n",
    "from sklearn.svm import SVC\n",
    "from sklearn.model_selection import cross_val_predict \n",
    "svm=SVC(kernel=\"linear\")\n",
    "Y_pred = cross_val_predict(svm, X_scaled, Y, cv=10)\n",
    "conf_mat = confusion_matrix(Y, Y_pred)\n",
    "print(conf_mat)"
   ]
  },
  {
   "cell_type": "code",
   "execution_count": 28,
   "id": "6a543bf1",
   "metadata": {},
   "outputs": [
    {
     "name": "stdout",
     "output_type": "stream",
     "text": [
      "Linear SVC Classifier accuracy(in %): 96.06853296619245\n"
     ]
    }
   ],
   "source": [
    "print(\"Linear SVC Classifier accuracy(in %):\", metrics.accuracy_score(Y, Y_pred)*100)"
   ]
  },
  {
   "cell_type": "code",
   "execution_count": null,
   "id": "7c3b3daa",
   "metadata": {},
   "outputs": [],
   "source": []
  }
 ],
 "metadata": {
  "kernelspec": {
   "display_name": "Python 3 (ipykernel)",
   "language": "python",
   "name": "python3"
  },
  "language_info": {
   "codemirror_mode": {
    "name": "ipython",
    "version": 3
   },
   "file_extension": ".py",
   "mimetype": "text/x-python",
   "name": "python",
   "nbconvert_exporter": "python",
   "pygments_lexer": "ipython3",
   "version": "3.9.13"
  }
 },
 "nbformat": 4,
 "nbformat_minor": 5
}
