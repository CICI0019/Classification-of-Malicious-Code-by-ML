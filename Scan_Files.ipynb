{
 "cells": [
  {
   "cell_type": "code",
   "execution_count": 1,
   "id": "872c3bc1",
   "metadata": {},
   "outputs": [
    {
     "ename": "SyntaxError",
     "evalue": "invalid syntax (3379005454.py, line 1)",
     "output_type": "error",
     "traceback": [
      "\u001b[1;36m  File \u001b[1;32m\"C:\\Users\\CICI\\AppData\\Local\\Temp\\ipykernel_18696\\3379005454.py\"\u001b[1;36m, line \u001b[1;32m1\u001b[0m\n\u001b[1;33m    pip2 install pefile\u001b[0m\n\u001b[1;37m         ^\u001b[0m\n\u001b[1;31mSyntaxError\u001b[0m\u001b[1;31m:\u001b[0m invalid syntax\n"
     ]
    }
   ],
   "source": [
    "pip2 install pefile\n",
    "pip2 install capstone\n",
    "apt-get insatll icountils\n"
   ]
  },
  {
   "cell_type": "code",
   "execution_count": 8,
   "id": "50e52b03",
   "metadata": {},
   "outputs": [
    {
     "ename": "ModuleNotFoundError",
     "evalue": "No module named 'pefile'",
     "output_type": "error",
     "traceback": [
      "\u001b[1;31m---------------------------------------------------------------------------\u001b[0m",
      "\u001b[1;31mModuleNotFoundError\u001b[0m                       Traceback (most recent call last)",
      "\u001b[1;32m~\\AppData\\Local\\Temp\\ipykernel_13660\\2077143521.py\u001b[0m in \u001b[0;36m<module>\u001b[1;34m\u001b[0m\n\u001b[1;32m----> 1\u001b[1;33m \u001b[1;32mimport\u001b[0m \u001b[0mpefile\u001b[0m\u001b[1;33m\u001b[0m\u001b[1;33m\u001b[0m\u001b[0m\n\u001b[0m\u001b[0;32m      2\u001b[0m \u001b[0mpf\u001b[0m \u001b[1;33m=\u001b[0m \u001b[0mpefile\u001b[0m\u001b[1;33m.\u001b[0m\u001b[0mPE\u001b[0m\u001b[1;33m(\u001b[0m\u001b[1;34m\"MsgBoxEXE.exe\"\u001b[0m\u001b[1;33m)\u001b[0m\u001b[1;33m\u001b[0m\u001b[1;33m\u001b[0m\u001b[0m\n\u001b[0;32m      3\u001b[0m \u001b[1;33m\u001b[0m\u001b[0m\n\u001b[0;32m      4\u001b[0m \u001b[0mprint\u001b[0m\u001b[1;33m(\u001b[0m\u001b[1;34m\"Section\\tBase_Address\\tMax_Size\\tData_Size\"\u001b[0m\u001b[1;33m)\u001b[0m\u001b[1;33m\u001b[0m\u001b[1;33m\u001b[0m\u001b[0m\n\u001b[0;32m      5\u001b[0m \u001b[1;32mfor\u001b[0m \u001b[0msection\u001b[0m \u001b[1;32min\u001b[0m \u001b[0mpf\u001b[0m\u001b[1;33m.\u001b[0m\u001b[0msection\u001b[0m\u001b[1;33m:\u001b[0m\u001b[1;33m\u001b[0m\u001b[1;33m\u001b[0m\u001b[0m\n",
      "\u001b[1;31mModuleNotFoundError\u001b[0m: No module named 'pefile'"
     ]
    }
   ],
   "source": [
    "import pefile\n",
    "pf = pefile.PE(\"MsgBoxEXE.exe\")\n",
    "\n",
    "print(\"Section\\tBase_Address\\tMax_Size\\tData_Size\")\n",
    "for section in pf.section:\n",
    "          print(section.Name, \"\\t\", hex(section.VirtualAddress),\"\\t\", hex(section.Misc_VirtualSize), \"\\t\", section.SizeOfRawData)\n",
    "\n",
    "for entry in pf.DIRECTORY_ENTRY_IMPORT:\n",
    "    print(entry.dll)\n",
    "    for func in entry.imports:\n",
    "        print(\"\\t\", func.name)"
   ]
  },
  {
   "cell_type": "code",
   "execution_count": null,
   "id": "54138b58",
   "metadata": {},
   "outputs": [],
   "source": [
    "import pefile\n",
    "import os, string, shutil, re\n",
    "import sys\n",
    "import csv\n",
    "\n",
    "path = sys.argv[1]\n",
    "pf = pefile.PE(path)\n",
    "imports = []\n",
    "\n",
    "print(\"----------------------------------\\n\")\n",
    "print(\"|Comprehensive analysis of Pefile|\\n\")\n",
    "print(\"----------------------------------\\n\")\n",
    "\n",
    "##print(\"Section\\t\\tBase_Address\\t\\tMax_Size\\t\\tData_Size\")\n",
    "for section in pf.sections:\n",
    "          ##print(section.Name, \"\\t\\t\", hex(section.VirtualAddress),\"\\t\\t\", hex(section.Misc_VirtualSize), \"\\t\\t\", section.SizeOfRawData)\n",
    "            print(section)\n",
    "\n",
    "print(\"\\n\")\n",
    "print(\"--------------------------------------------------\\n\")\n",
    "print(\"| Export the API functions from the file program |\\n\")\n",
    "print(\"--------------------------------------------------\\n\")\n",
    "\n",
    "for entry in pf.DIRECTORY_ENTRY_IMPORT:\n",
    "    print(entry.dll)\n",
    "    for function in entry.imports:\n",
    "        print(\"\\t\", function.name)\n",
    "imports.append([entry.dll.decode('utf-8'),function.name.decode('utf-8')])\n",
    "\n",
    "with open('output.csv', 'w',newline='') as csvfile:\n",
    "    writer = csv.writer(csvfile)\n",
    "    writer.writerow(['DLL Name', 'Import Name'])\n",
    "    for row in imports:\n",
    "        writer.writerow(row)\n",
    "\n",
    "\n",
    "print(\"\\n\")"
   ]
  },
  {
   "cell_type": "code",
   "execution_count": null,
   "id": "095ca633",
   "metadata": {},
   "outputs": [],
   "source": [
    "To run the program:\n",
    "python petest.py /home/cici/Documents/MsgBoxEXE.exe"
   ]
  }
 ],
 "metadata": {
  "kernelspec": {
   "display_name": "Python 3 (ipykernel)",
   "language": "python",
   "name": "python3"
  },
  "language_info": {
   "codemirror_mode": {
    "name": "ipython",
    "version": 3
   },
   "file_extension": ".py",
   "mimetype": "text/x-python",
   "name": "python",
   "nbconvert_exporter": "python",
   "pygments_lexer": "ipython3",
   "version": "3.9.13"
  }
 },
 "nbformat": 4,
 "nbformat_minor": 5
}
