{
 "cells": [
  {
   "cell_type": "markdown",
   "id": "8ec64864",
   "metadata": {},
   "source": [
    "# Malware Analysis using Machine Learning"
   ]
  },
  {
   "cell_type": "code",
   "execution_count": 1,
   "id": "ae09db9b",
   "metadata": {},
   "outputs": [],
   "source": [
    "#Credit:https://github.com/aayuv17/Malware-Analysis   "
   ]
  },
  {
   "cell_type": "code",
   "execution_count": 3,
   "id": "54e8eaff",
   "metadata": {},
   "outputs": [],
   "source": [
    "#The classification algorithms: Gaussian Naive Bayes, RandomForestClassifier, DecisionTreeClassifier & Linear SVC."
   ]
  },
  {
   "cell_type": "code",
   "execution_count": 4,
   "id": "272b23d7",
   "metadata": {},
   "outputs": [],
   "source": [
    "import numpy as np\n",
    "import pandas as pd\n",
    "import seaborn as sns\n",
    "import matplotlib.pyplot as plt"
   ]
  },
  {
   "cell_type": "code",
   "execution_count": 7,
   "id": "e5f2f75c",
   "metadata": {},
   "outputs": [],
   "source": [
    "data = pd.read_csv('PEFiles.csv', sep=',')"
   ]
  },
  {
   "cell_type": "code",
   "execution_count": 8,
   "id": "b95ed707",
   "metadata": {},
   "outputs": [
    {
     "data": {
      "text/html": [
       "<div>\n",
       "<style scoped>\n",
       "    .dataframe tbody tr th:only-of-type {\n",
       "        vertical-align: middle;\n",
       "    }\n",
       "\n",
       "    .dataframe tbody tr th {\n",
       "        vertical-align: top;\n",
       "    }\n",
       "\n",
       "    .dataframe thead th {\n",
       "        text-align: right;\n",
       "    }\n",
       "</style>\n",
       "<table border=\"1\" class=\"dataframe\">\n",
       "  <thead>\n",
       "    <tr style=\"text-align: right;\">\n",
       "      <th></th>\n",
       "      <th>MD5Hash</th>\n",
       "      <th>FileType</th>\n",
       "      <th>SizeOfData</th>\n",
       "      <th>VirtualAddress</th>\n",
       "      <th>Entropy</th>\n",
       "      <th>Magic</th>\n",
       "      <th>NumberOfSections</th>\n",
       "      <th>TimeDateStamp</th>\n",
       "      <th>SizeOfOptionalHeader</th>\n",
       "      <th>Characteristics</th>\n",
       "      <th>...</th>\n",
       "      <th>SuspiciousImportFunctions</th>\n",
       "      <th>SuspiciousNameSection</th>\n",
       "      <th>SectionsLength</th>\n",
       "      <th>SectionMinEntropy</th>\n",
       "      <th>SectionMaxEntropy</th>\n",
       "      <th>SectionMinRawsize</th>\n",
       "      <th>SectionMaxRawsize</th>\n",
       "      <th>SectionMinVirtualsize</th>\n",
       "      <th>SectionMaxVirtualsize</th>\n",
       "      <th>Malware</th>\n",
       "    </tr>\n",
       "  </thead>\n",
       "  <tbody>\n",
       "    <tr>\n",
       "      <th>0</th>\n",
       "      <td>393ced54d952c843ac9e16354bff642b</td>\n",
       "      <td>Win32 DLL</td>\n",
       "      <td>22568</td>\n",
       "      <td>4096</td>\n",
       "      <td>6.675504</td>\n",
       "      <td>267</td>\n",
       "      <td>3</td>\n",
       "      <td>1433141554</td>\n",
       "      <td>224</td>\n",
       "      <td>271</td>\n",
       "      <td>...</td>\n",
       "      <td>2</td>\n",
       "      <td>0</td>\n",
       "      <td>3</td>\n",
       "      <td>0.000000</td>\n",
       "      <td>0</td>\n",
       "      <td>0</td>\n",
       "      <td>0</td>\n",
       "      <td>4096</td>\n",
       "      <td>0</td>\n",
       "      <td>0</td>\n",
       "    </tr>\n",
       "    <tr>\n",
       "      <th>1</th>\n",
       "      <td>dac3e271ef4a287821becda51aa12946</td>\n",
       "      <td>Win32 DLL</td>\n",
       "      <td>21032</td>\n",
       "      <td>4096</td>\n",
       "      <td>6.429311</td>\n",
       "      <td>267</td>\n",
       "      <td>4</td>\n",
       "      <td>1309982321</td>\n",
       "      <td>224</td>\n",
       "      <td>8462</td>\n",
       "      <td>...</td>\n",
       "      <td>1</td>\n",
       "      <td>0</td>\n",
       "      <td>4</td>\n",
       "      <td>0.424357</td>\n",
       "      <td>0</td>\n",
       "      <td>512</td>\n",
       "      <td>0</td>\n",
       "      <td>52</td>\n",
       "      <td>0</td>\n",
       "      <td>0</td>\n",
       "    </tr>\n",
       "    <tr>\n",
       "      <th>2</th>\n",
       "      <td>eb3aeb684858b00bc6a90f68e8df5484</td>\n",
       "      <td>Win32 DLL</td>\n",
       "      <td>21544</td>\n",
       "      <td>4096</td>\n",
       "      <td>6.709396</td>\n",
       "      <td>267</td>\n",
       "      <td>5</td>\n",
       "      <td>1260053446</td>\n",
       "      <td>224</td>\n",
       "      <td>271</td>\n",
       "      <td>...</td>\n",
       "      <td>0</td>\n",
       "      <td>0</td>\n",
       "      <td>5</td>\n",
       "      <td>0.000000</td>\n",
       "      <td>0</td>\n",
       "      <td>0</td>\n",
       "      <td>0</td>\n",
       "      <td>4496</td>\n",
       "      <td>0</td>\n",
       "      <td>0</td>\n",
       "    </tr>\n",
       "    <tr>\n",
       "      <th>3</th>\n",
       "      <td>4fc1d0fdb7b881793ded358f1880bc16</td>\n",
       "      <td>Win32 DLL</td>\n",
       "      <td>20520</td>\n",
       "      <td>4096</td>\n",
       "      <td>6.585726</td>\n",
       "      <td>523</td>\n",
       "      <td>8</td>\n",
       "      <td>1236385374</td>\n",
       "      <td>240</td>\n",
       "      <td>34</td>\n",
       "      <td>...</td>\n",
       "      <td>1</td>\n",
       "      <td>0</td>\n",
       "      <td>8</td>\n",
       "      <td>0.259963</td>\n",
       "      <td>0</td>\n",
       "      <td>512</td>\n",
       "      <td>0</td>\n",
       "      <td>56</td>\n",
       "      <td>0</td>\n",
       "      <td>0</td>\n",
       "    </tr>\n",
       "    <tr>\n",
       "      <th>4</th>\n",
       "      <td>75e626c3ebf160ebe75c59d3d6ac3739</td>\n",
       "      <td>Win32 DLL</td>\n",
       "      <td>21544</td>\n",
       "      <td>4096</td>\n",
       "      <td>6.591178</td>\n",
       "      <td>267</td>\n",
       "      <td>3</td>\n",
       "      <td>1404722825</td>\n",
       "      <td>224</td>\n",
       "      <td>258</td>\n",
       "      <td>...</td>\n",
       "      <td>1</td>\n",
       "      <td>0</td>\n",
       "      <td>3</td>\n",
       "      <td>0.293594</td>\n",
       "      <td>0</td>\n",
       "      <td>512</td>\n",
       "      <td>0</td>\n",
       "      <td>512</td>\n",
       "      <td>0</td>\n",
       "      <td>0</td>\n",
       "    </tr>\n",
       "  </tbody>\n",
       "</table>\n",
       "<p>5 rows × 38 columns</p>\n",
       "</div>"
      ],
      "text/plain": [
       "                            MD5Hash   FileType  SizeOfData  VirtualAddress  \\\n",
       "0  393ced54d952c843ac9e16354bff642b  Win32 DLL       22568            4096   \n",
       "1  dac3e271ef4a287821becda51aa12946  Win32 DLL       21032            4096   \n",
       "2  eb3aeb684858b00bc6a90f68e8df5484  Win32 DLL       21544            4096   \n",
       "3  4fc1d0fdb7b881793ded358f1880bc16  Win32 DLL       20520            4096   \n",
       "4  75e626c3ebf160ebe75c59d3d6ac3739  Win32 DLL       21544            4096   \n",
       "\n",
       "    Entropy  Magic  NumberOfSections  TimeDateStamp  SizeOfOptionalHeader  \\\n",
       "0  6.675504    267                 3     1433141554                   224   \n",
       "1  6.429311    267                 4     1309982321                   224   \n",
       "2  6.709396    267                 5     1260053446                   224   \n",
       "3  6.585726    523                 8     1236385374                   240   \n",
       "4  6.591178    267                 3     1404722825                   224   \n",
       "\n",
       "   Characteristics  ...  SuspiciousImportFunctions  SuspiciousNameSection  \\\n",
       "0              271  ...                          2                      0   \n",
       "1             8462  ...                          1                      0   \n",
       "2              271  ...                          0                      0   \n",
       "3               34  ...                          1                      0   \n",
       "4              258  ...                          1                      0   \n",
       "\n",
       "   SectionsLength  SectionMinEntropy  SectionMaxEntropy  SectionMinRawsize  \\\n",
       "0               3           0.000000                  0                  0   \n",
       "1               4           0.424357                  0                512   \n",
       "2               5           0.000000                  0                  0   \n",
       "3               8           0.259963                  0                512   \n",
       "4               3           0.293594                  0                512   \n",
       "\n",
       "   SectionMaxRawsize  SectionMinVirtualsize  SectionMaxVirtualsize  Malware  \n",
       "0                  0                   4096                      0        0  \n",
       "1                  0                     52                      0        0  \n",
       "2                  0                   4496                      0        0  \n",
       "3                  0                     56                      0        0  \n",
       "4                  0                    512                      0        0  \n",
       "\n",
       "[5 rows x 38 columns]"
      ]
     },
     "execution_count": 8,
     "metadata": {},
     "output_type": "execute_result"
    }
   ],
   "source": [
    "data.head()"
   ]
  },
  {
   "cell_type": "code",
   "execution_count": 81,
   "id": "90e3f1e6",
   "metadata": {},
   "outputs": [
    {
     "data": {
      "text/plain": [
       "(480, 38)"
      ]
     },
     "execution_count": 81,
     "metadata": {},
     "output_type": "execute_result"
    }
   ],
   "source": [
    "data.shape"
   ]
  },
  {
   "cell_type": "code",
   "execution_count": 82,
   "id": "b40b1c7d",
   "metadata": {},
   "outputs": [
    {
     "data": {
      "text/plain": [
       "MD5Hash                        0\n",
       "FileType                       0\n",
       "SizeOfData                     0\n",
       "VirtualAddress                 0\n",
       "Entropy                        0\n",
       "Magic                          0\n",
       "NumberOfSections               0\n",
       "TimeDateStamp                  0\n",
       "SizeOfOptionalHeader           0\n",
       "Characteristics                0\n",
       "MajorLinkerVersion             0\n",
       "MinorLinkerVersion             0\n",
       "SizeOfCode                     0\n",
       "SizeOfInitializedData          0\n",
       "SizeOfUninitializedData        0\n",
       "AddressOfEntryPoint            0\n",
       "BaseOfCode                     0\n",
       "ImageBase                      0\n",
       "MajorOperatingSystemVersion    0\n",
       "MinorOperatingSystemVersion    0\n",
       "MajorImageVersion              0\n",
       "MinorImageVersion              0\n",
       "MajorSubsystemVersion          0\n",
       "MinorSubsystemVersion          0\n",
       "SizeOfHeaders                  0\n",
       "SizeOfImage                    0\n",
       "Subsystem                      0\n",
       "DllCharacteristics             0\n",
       "SuspiciousImportFunctions      0\n",
       "SuspiciousNameSection          0\n",
       "SectionsLength                 0\n",
       "SectionMinEntropy              0\n",
       "SectionMaxEntropy              0\n",
       "SectionMinRawsize              0\n",
       "SectionMaxRawsize              0\n",
       "SectionMinVirtualsize          0\n",
       "SectionMaxVirtualsize          0\n",
       "Malware                        0\n",
       "dtype: int64"
      ]
     },
     "execution_count": 82,
     "metadata": {},
     "output_type": "execute_result"
    }
   ],
   "source": [
    "data.isnull().sum()"
   ]
  },
  {
   "cell_type": "code",
   "execution_count": 83,
   "id": "8fc74ca7",
   "metadata": {},
   "outputs": [
    {
     "data": {
      "text/plain": [
       "1    252\n",
       "0    228\n",
       "Name: Malware, dtype: int64"
      ]
     },
     "execution_count": 83,
     "metadata": {},
     "output_type": "execute_result"
    }
   ],
   "source": [
    "data[\"Malware\"].value_counts()"
   ]
  },
  {
   "cell_type": "code",
   "execution_count": 84,
   "id": "2174993c",
   "metadata": {},
   "outputs": [
    {
     "name": "stderr",
     "output_type": "stream",
     "text": [
      "C:\\Users\\CICI\\anaconda3\\lib\\site-packages\\seaborn\\_decorators.py:36: FutureWarning: Pass the following variable as a keyword arg: x. From version 0.12, the only valid positional argument will be `data`, and passing other arguments without an explicit keyword will result in an error or misinterpretation.\n",
      "  warnings.warn(\n"
     ]
    },
    {
     "data": {
      "image/png": "[encoded data removed]",
      "text/plain": [
       "<Figure size 640x480 with 1 Axes>"
      ]
     },
     "metadata": {},
     "output_type": "display_data"
    }
   ],
   "source": [
    "sns.countplot(data[\"Malware\"])\n",
    "plt.show()"
   ]
  },
  {
   "cell_type": "code",
   "execution_count": 85,
   "id": "42102923",
   "metadata": {},
   "outputs": [
    {
     "data": {
      "image/png": "[encoded data removed]",
      "text/plain": [
       "<Figure size 640x480 with 1 Axes>"
      ]
     },
     "metadata": {},
     "output_type": "display_data"
    }
   ],
   "source": [
    "data[\"Malware\"].value_counts().plot(kind=\"pie\",autopct=\"%1.1f%%\")\n",
    "plt.axis(\"equal\")\n",
    "plt.show()"
   ]
  },
  {
   "cell_type": "code",
   "execution_count": 86,
   "id": "f7a46f17",
   "metadata": {},
   "outputs": [
    {
     "data": {
      "text/plain": [
       "Win32 EXE            223\n",
       "Win32 DLL            168\n",
       "unknown               21\n",
       "DOS EXE               19\n",
       "GIF                   11\n",
       "MS Word Document       7\n",
       "unknown                7\n",
       "Windows Installer      6\n",
       "DOS COM                6\n",
       "Text                   5\n",
       "HTML                   4\n",
       "Email                  1\n",
       "ZIP                    1\n",
       "PDF                    1\n",
       "Name: FileType, dtype: int64"
      ]
     },
     "execution_count": 86,
     "metadata": {},
     "output_type": "execute_result"
    }
   ],
   "source": [
    "data[\"FileType\"].value_counts()"
   ]
  },
  {
   "cell_type": "code",
   "execution_count": 87,
   "id": "c7ad76cf",
   "metadata": {},
   "outputs": [],
   "source": [
    "data['FileType'] = data.FileType.map({'Win32 EXE':0, 'Win32 DLL':1, 'DOS EXE':2, 'GIF':3, 'MS Word Document':4, 'Windows Installer':5, 'DOS COM':6, 'Text':7, 'HTML':8})"
   ]
  },
  {
   "cell_type": "code",
   "execution_count": 88,
   "id": "dd80420b",
   "metadata": {},
   "outputs": [
    {
     "data": {
      "text/html": [
       "<div>\n",
       "<style scoped>\n",
       "    .dataframe tbody tr th:only-of-type {\n",
       "        vertical-align: middle;\n",
       "    }\n",
       "\n",
       "    .dataframe tbody tr th {\n",
       "        vertical-align: top;\n",
       "    }\n",
       "\n",
       "    .dataframe thead th {\n",
       "        text-align: right;\n",
       "    }\n",
       "</style>\n",
       "<table border=\"1\" class=\"dataframe\">\n",
       "  <thead>\n",
       "    <tr style=\"text-align: right;\">\n",
       "      <th></th>\n",
       "      <th>MD5Hash</th>\n",
       "      <th>FileType</th>\n",
       "      <th>SizeOfData</th>\n",
       "      <th>VirtualAddress</th>\n",
       "      <th>Entropy</th>\n",
       "      <th>Magic</th>\n",
       "      <th>NumberOfSections</th>\n",
       "      <th>TimeDateStamp</th>\n",
       "      <th>SizeOfOptionalHeader</th>\n",
       "      <th>Characteristics</th>\n",
       "      <th>...</th>\n",
       "      <th>SuspiciousImportFunctions</th>\n",
       "      <th>SuspiciousNameSection</th>\n",
       "      <th>SectionsLength</th>\n",
       "      <th>SectionMinEntropy</th>\n",
       "      <th>SectionMaxEntropy</th>\n",
       "      <th>SectionMinRawsize</th>\n",
       "      <th>SectionMaxRawsize</th>\n",
       "      <th>SectionMinVirtualsize</th>\n",
       "      <th>SectionMaxVirtualsize</th>\n",
       "      <th>Malware</th>\n",
       "    </tr>\n",
       "  </thead>\n",
       "  <tbody>\n",
       "    <tr>\n",
       "      <th>0</th>\n",
       "      <td>393ced54d952c843ac9e16354bff642b</td>\n",
       "      <td>1.0</td>\n",
       "      <td>22568</td>\n",
       "      <td>4096</td>\n",
       "      <td>6.675504</td>\n",
       "      <td>267</td>\n",
       "      <td>3</td>\n",
       "      <td>1433141554</td>\n",
       "      <td>224</td>\n",
       "      <td>271</td>\n",
       "      <td>...</td>\n",
       "      <td>2</td>\n",
       "      <td>0</td>\n",
       "      <td>3</td>\n",
       "      <td>0.000000</td>\n",
       "      <td>0</td>\n",
       "      <td>0</td>\n",
       "      <td>0</td>\n",
       "      <td>4096</td>\n",
       "      <td>0</td>\n",
       "      <td>0</td>\n",
       "    </tr>\n",
       "    <tr>\n",
       "      <th>1</th>\n",
       "      <td>dac3e271ef4a287821becda51aa12946</td>\n",
       "      <td>1.0</td>\n",
       "      <td>21032</td>\n",
       "      <td>4096</td>\n",
       "      <td>6.429311</td>\n",
       "      <td>267</td>\n",
       "      <td>4</td>\n",
       "      <td>1309982321</td>\n",
       "      <td>224</td>\n",
       "      <td>8462</td>\n",
       "      <td>...</td>\n",
       "      <td>1</td>\n",
       "      <td>0</td>\n",
       "      <td>4</td>\n",
       "      <td>0.424357</td>\n",
       "      <td>0</td>\n",
       "      <td>512</td>\n",
       "      <td>0</td>\n",
       "      <td>52</td>\n",
       "      <td>0</td>\n",
       "      <td>0</td>\n",
       "    </tr>\n",
       "    <tr>\n",
       "      <th>2</th>\n",
       "      <td>eb3aeb684858b00bc6a90f68e8df5484</td>\n",
       "      <td>1.0</td>\n",
       "      <td>21544</td>\n",
       "      <td>4096</td>\n",
       "      <td>6.709396</td>\n",
       "      <td>267</td>\n",
       "      <td>5</td>\n",
       "      <td>1260053446</td>\n",
       "      <td>224</td>\n",
       "      <td>271</td>\n",
       "      <td>...</td>\n",
       "      <td>0</td>\n",
       "      <td>0</td>\n",
       "      <td>5</td>\n",
       "      <td>0.000000</td>\n",
       "      <td>0</td>\n",
       "      <td>0</td>\n",
       "      <td>0</td>\n",
       "      <td>4496</td>\n",
       "      <td>0</td>\n",
       "      <td>0</td>\n",
       "    </tr>\n",
       "    <tr>\n",
       "      <th>3</th>\n",
       "      <td>4fc1d0fdb7b881793ded358f1880bc16</td>\n",
       "      <td>1.0</td>\n",
       "      <td>20520</td>\n",
       "      <td>4096</td>\n",
       "      <td>6.585726</td>\n",
       "      <td>523</td>\n",
       "      <td>8</td>\n",
       "      <td>1236385374</td>\n",
       "      <td>240</td>\n",
       "      <td>34</td>\n",
       "      <td>...</td>\n",
       "      <td>1</td>\n",
       "      <td>0</td>\n",
       "      <td>8</td>\n",
       "      <td>0.259963</td>\n",
       "      <td>0</td>\n",
       "      <td>512</td>\n",
       "      <td>0</td>\n",
       "      <td>56</td>\n",
       "      <td>0</td>\n",
       "      <td>0</td>\n",
       "    </tr>\n",
       "    <tr>\n",
       "      <th>4</th>\n",
       "      <td>75e626c3ebf160ebe75c59d3d6ac3739</td>\n",
       "      <td>1.0</td>\n",
       "      <td>21544</td>\n",
       "      <td>4096</td>\n",
       "      <td>6.591178</td>\n",
       "      <td>267</td>\n",
       "      <td>3</td>\n",
       "      <td>1404722825</td>\n",
       "      <td>224</td>\n",
       "      <td>258</td>\n",
       "      <td>...</td>\n",
       "      <td>1</td>\n",
       "      <td>0</td>\n",
       "      <td>3</td>\n",
       "      <td>0.293594</td>\n",
       "      <td>0</td>\n",
       "      <td>512</td>\n",
       "      <td>0</td>\n",
       "      <td>512</td>\n",
       "      <td>0</td>\n",
       "      <td>0</td>\n",
       "    </tr>\n",
       "  </tbody>\n",
       "</table>\n",
       "<p>5 rows × 38 columns</p>\n",
       "</div>"
      ],
      "text/plain": [
       "                            MD5Hash  FileType  SizeOfData  VirtualAddress  \\\n",
       "0  393ced54d952c843ac9e16354bff642b       1.0       22568            4096   \n",
       "1  dac3e271ef4a287821becda51aa12946       1.0       21032            4096   \n",
       "2  eb3aeb684858b00bc6a90f68e8df5484       1.0       21544            4096   \n",
       "3  4fc1d0fdb7b881793ded358f1880bc16       1.0       20520            4096   \n",
       "4  75e626c3ebf160ebe75c59d3d6ac3739       1.0       21544            4096   \n",
       "\n",
       "    Entropy  Magic  NumberOfSections  TimeDateStamp  SizeOfOptionalHeader  \\\n",
       "0  6.675504    267                 3     1433141554                   224   \n",
       "1  6.429311    267                 4     1309982321                   224   \n",
       "2  6.709396    267                 5     1260053446                   224   \n",
       "3  6.585726    523                 8     1236385374                   240   \n",
       "4  6.591178    267                 3     1404722825                   224   \n",
       "\n",
       "   Characteristics  ...  SuspiciousImportFunctions  SuspiciousNameSection  \\\n",
       "0              271  ...                          2                      0   \n",
       "1             8462  ...                          1                      0   \n",
       "2              271  ...                          0                      0   \n",
       "3               34  ...                          1                      0   \n",
       "4              258  ...                          1                      0   \n",
       "\n",
       "   SectionsLength  SectionMinEntropy  SectionMaxEntropy  SectionMinRawsize  \\\n",
       "0               3           0.000000                  0                  0   \n",
       "1               4           0.424357                  0                512   \n",
       "2               5           0.000000                  0                  0   \n",
       "3               8           0.259963                  0                512   \n",
       "4               3           0.293594                  0                512   \n",
       "\n",
       "   SectionMaxRawsize  SectionMinVirtualsize  SectionMaxVirtualsize  Malware  \n",
       "0                  0                   4096                      0        0  \n",
       "1                  0                     52                      0        0  \n",
       "2                  0                   4496                      0        0  \n",
       "3                  0                     56                      0        0  \n",
       "4                  0                    512                      0        0  \n",
       "\n",
       "[5 rows x 38 columns]"
      ]
     },
     "execution_count": 88,
     "metadata": {},
     "output_type": "execute_result"
    }
   ],
   "source": [
    "Data=data.dropna(how=\"any\",axis=0)\n",
    "Data.head()"
   ]
  },
  {
   "cell_type": "code",
   "execution_count": 89,
   "id": "309d3a41",
   "metadata": {},
   "outputs": [],
   "source": [
    "X = Data.drop(['MD5Hash','Malware'],axis=1)\n",
    "Y = Data['Malware']"
   ]
  },
  {
   "cell_type": "code",
   "execution_count": 90,
   "id": "b7a6a8eb",
   "metadata": {},
   "outputs": [
    {
     "data": {
      "text/html": [
       "<div>\n",
       "<style scoped>\n",
       "    .dataframe tbody tr th:only-of-type {\n",
       "        vertical-align: middle;\n",
       "    }\n",
       "\n",
       "    .dataframe tbody tr th {\n",
       "        vertical-align: top;\n",
       "    }\n",
       "\n",
       "    .dataframe thead th {\n",
       "        text-align: right;\n",
       "    }\n",
       "</style>\n",
       "<table border=\"1\" class=\"dataframe\">\n",
       "  <thead>\n",
       "    <tr style=\"text-align: right;\">\n",
       "      <th></th>\n",
       "      <th>FileType</th>\n",
       "      <th>SizeOfData</th>\n",
       "      <th>VirtualAddress</th>\n",
       "      <th>Entropy</th>\n",
       "      <th>Magic</th>\n",
       "      <th>NumberOfSections</th>\n",
       "      <th>TimeDateStamp</th>\n",
       "      <th>SizeOfOptionalHeader</th>\n",
       "      <th>Characteristics</th>\n",
       "      <th>MajorLinkerVersion</th>\n",
       "      <th>...</th>\n",
       "      <th>DllCharacteristics</th>\n",
       "      <th>SuspiciousImportFunctions</th>\n",
       "      <th>SuspiciousNameSection</th>\n",
       "      <th>SectionsLength</th>\n",
       "      <th>SectionMinEntropy</th>\n",
       "      <th>SectionMaxEntropy</th>\n",
       "      <th>SectionMinRawsize</th>\n",
       "      <th>SectionMaxRawsize</th>\n",
       "      <th>SectionMinVirtualsize</th>\n",
       "      <th>SectionMaxVirtualsize</th>\n",
       "    </tr>\n",
       "  </thead>\n",
       "  <tbody>\n",
       "    <tr>\n",
       "      <th>368</th>\n",
       "      <td>0.0</td>\n",
       "      <td>21504</td>\n",
       "      <td>4096</td>\n",
       "      <td>6.529624</td>\n",
       "      <td>267</td>\n",
       "      <td>4</td>\n",
       "      <td>1387178030</td>\n",
       "      <td>224</td>\n",
       "      <td>259</td>\n",
       "      <td>8</td>\n",
       "      <td>...</td>\n",
       "      <td>0</td>\n",
       "      <td>0</td>\n",
       "      <td>0</td>\n",
       "      <td>4</td>\n",
       "      <td>0.572732</td>\n",
       "      <td>0</td>\n",
       "      <td>4096</td>\n",
       "      <td>0</td>\n",
       "      <td>1504</td>\n",
       "      <td>0</td>\n",
       "    </tr>\n",
       "    <tr>\n",
       "      <th>476</th>\n",
       "      <td>0.0</td>\n",
       "      <td>31744</td>\n",
       "      <td>4096</td>\n",
       "      <td>6.261564</td>\n",
       "      <td>523</td>\n",
       "      <td>5</td>\n",
       "      <td>1263781114</td>\n",
       "      <td>240</td>\n",
       "      <td>558</td>\n",
       "      <td>6</td>\n",
       "      <td>...</td>\n",
       "      <td>33088</td>\n",
       "      <td>0</td>\n",
       "      <td>0</td>\n",
       "      <td>5</td>\n",
       "      <td>0.020393</td>\n",
       "      <td>0</td>\n",
       "      <td>512</td>\n",
       "      <td>0</td>\n",
       "      <td>8</td>\n",
       "      <td>0</td>\n",
       "    </tr>\n",
       "    <tr>\n",
       "      <th>217</th>\n",
       "      <td>1.0</td>\n",
       "      <td>5632</td>\n",
       "      <td>4096</td>\n",
       "      <td>6.541042</td>\n",
       "      <td>267</td>\n",
       "      <td>7</td>\n",
       "      <td>1438964804</td>\n",
       "      <td>224</td>\n",
       "      <td>258</td>\n",
       "      <td>12</td>\n",
       "      <td>...</td>\n",
       "      <td>33088</td>\n",
       "      <td>5</td>\n",
       "      <td>0</td>\n",
       "      <td>7</td>\n",
       "      <td>4.678197</td>\n",
       "      <td>0</td>\n",
       "      <td>6656</td>\n",
       "      <td>0</td>\n",
       "      <td>6568</td>\n",
       "      <td>0</td>\n",
       "    </tr>\n",
       "    <tr>\n",
       "      <th>80</th>\n",
       "      <td>1.0</td>\n",
       "      <td>63528</td>\n",
       "      <td>4096</td>\n",
       "      <td>6.497885</td>\n",
       "      <td>267</td>\n",
       "      <td>4</td>\n",
       "      <td>596991535</td>\n",
       "      <td>224</td>\n",
       "      <td>271</td>\n",
       "      <td>6</td>\n",
       "      <td>...</td>\n",
       "      <td>0</td>\n",
       "      <td>1</td>\n",
       "      <td>0</td>\n",
       "      <td>4</td>\n",
       "      <td>0.000000</td>\n",
       "      <td>0</td>\n",
       "      <td>0</td>\n",
       "      <td>0</td>\n",
       "      <td>13352</td>\n",
       "      <td>0</td>\n",
       "    </tr>\n",
       "    <tr>\n",
       "      <th>46</th>\n",
       "      <td>0.0</td>\n",
       "      <td>20520</td>\n",
       "      <td>4096</td>\n",
       "      <td>6.455427</td>\n",
       "      <td>267</td>\n",
       "      <td>3</td>\n",
       "      <td>1435013409</td>\n",
       "      <td>224</td>\n",
       "      <td>258</td>\n",
       "      <td>11</td>\n",
       "      <td>...</td>\n",
       "      <td>34112</td>\n",
       "      <td>0</td>\n",
       "      <td>0</td>\n",
       "      <td>3</td>\n",
       "      <td>0.101910</td>\n",
       "      <td>0</td>\n",
       "      <td>512</td>\n",
       "      <td>0</td>\n",
       "      <td>12</td>\n",
       "      <td>0</td>\n",
       "    </tr>\n",
       "  </tbody>\n",
       "</table>\n",
       "<p>5 rows × 36 columns</p>\n",
       "</div>"
      ],
      "text/plain": [
       "     FileType  SizeOfData  VirtualAddress   Entropy  Magic  NumberOfSections  \\\n",
       "368       0.0       21504            4096  6.529624    267                 4   \n",
       "476       0.0       31744            4096  6.261564    523                 5   \n",
       "217       1.0        5632            4096  6.541042    267                 7   \n",
       "80        1.0       63528            4096  6.497885    267                 4   \n",
       "46        0.0       20520            4096  6.455427    267                 3   \n",
       "\n",
       "     TimeDateStamp  SizeOfOptionalHeader  Characteristics  MajorLinkerVersion  \\\n",
       "368     1387178030                   224              259                   8   \n",
       "476     1263781114                   240              558                   6   \n",
       "217     1438964804                   224              258                  12   \n",
       "80       596991535                   224              271                   6   \n",
       "46      1435013409                   224              258                  11   \n",
       "\n",
       "     ...  DllCharacteristics  SuspiciousImportFunctions  \\\n",
       "368  ...                   0                          0   \n",
       "476  ...               33088                          0   \n",
       "217  ...               33088                          5   \n",
       "80   ...                   0                          1   \n",
       "46   ...               34112                          0   \n",
       "\n",
       "     SuspiciousNameSection  SectionsLength  SectionMinEntropy  \\\n",
       "368                      0               4           0.572732   \n",
       "476                      0               5           0.020393   \n",
       "217                      0               7           4.678197   \n",
       "80                       0               4           0.000000   \n",
       "46                       0               3           0.101910   \n",
       "\n",
       "     SectionMaxEntropy  SectionMinRawsize  SectionMaxRawsize  \\\n",
       "368                  0               4096                  0   \n",
       "476                  0                512                  0   \n",
       "217                  0               6656                  0   \n",
       "80                   0                  0                  0   \n",
       "46                   0                512                  0   \n",
       "\n",
       "     SectionMinVirtualsize  SectionMaxVirtualsize  \n",
       "368                   1504                      0  \n",
       "476                      8                      0  \n",
       "217                   6568                      0  \n",
       "80                   13352                      0  \n",
       "46                      12                      0  \n",
       "\n",
       "[5 rows x 36 columns]"
      ]
     },
     "execution_count": 90,
     "metadata": {},
     "output_type": "execute_result"
    }
   ],
   "source": [
    "from sklearn.model_selection import train_test_split\n",
    "X_train, X_test, Y_train, Y_test= train_test_split(X, Y, test_size=0.2, random_state=1)\n",
    "X_train.head()"
   ]
  },
  {
   "cell_type": "code",
   "execution_count": 91,
   "id": "83916362",
   "metadata": {},
   "outputs": [],
   "source": [
    "#Scaling the data\n",
    "from sklearn.preprocessing import StandardScaler\n",
    "scaler = StandardScaler()\n",
    "X_scaled = scaler.fit_transform(X_train)"
   ]
  },
  {
   "cell_type": "code",
   "execution_count": 92,
   "id": "e81c6349",
   "metadata": {},
   "outputs": [],
   "source": [
    "#performing Gaussian Naive Bayes on the training data\n",
    "from sklearn.naive_bayes import GaussianNB\n",
    "gnb=GaussianNB()"
   ]
  },
  {
   "cell_type": "code",
   "execution_count": 93,
   "id": "a520c5ff",
   "metadata": {},
   "outputs": [
    {
     "data": {
      "text/plain": [
       "GaussianNB()"
      ]
     },
     "execution_count": 93,
     "metadata": {},
     "output_type": "execute_result"
    }
   ],
   "source": [
    "gnb.fit(X_scaled, Y_train)"
   ]
  },
  {
   "cell_type": "code",
   "execution_count": 94,
   "id": "4d328bc1",
   "metadata": {},
   "outputs": [
    {
     "name": "stderr",
     "output_type": "stream",
     "text": [
      "C:\\Users\\CICI\\anaconda3\\lib\\site-packages\\sklearn\\base.py:443: UserWarning: X has feature names, but GaussianNB was fitted without feature names\n",
      "  warnings.warn(\n"
     ]
    }
   ],
   "source": [
    "Y_pred=gnb.predict(X_test)"
   ]
  },
  {
   "cell_type": "code",
   "execution_count": 95,
   "id": "7cc1d9d8",
   "metadata": {},
   "outputs": [
    {
     "name": "stdout",
     "output_type": "stream",
     "text": [
      "Gaussian Naive Bayes model accuracy(in %): 37.77777777777778\n"
     ]
    }
   ],
   "source": [
    "from sklearn import metrics \n",
    "print(\"Gaussian Naive Bayes model accuracy(in %):\", metrics.accuracy_score(Y_test, Y_pred)*100)"
   ]
  },
  {
   "cell_type": "code",
   "execution_count": 96,
   "id": "87bb1e84",
   "metadata": {},
   "outputs": [
    {
     "data": {
      "text/html": [
       "<div>\n",
       "<style scoped>\n",
       "    .dataframe tbody tr th:only-of-type {\n",
       "        vertical-align: middle;\n",
       "    }\n",
       "\n",
       "    .dataframe tbody tr th {\n",
       "        vertical-align: top;\n",
       "    }\n",
       "\n",
       "    .dataframe thead th {\n",
       "        text-align: right;\n",
       "    }\n",
       "</style>\n",
       "<table border=\"1\" class=\"dataframe\">\n",
       "  <thead>\n",
       "    <tr style=\"text-align: right;\">\n",
       "      <th></th>\n",
       "      <th>FileType</th>\n",
       "      <th>SizeOfData</th>\n",
       "      <th>VirtualAddress</th>\n",
       "      <th>Entropy</th>\n",
       "      <th>Magic</th>\n",
       "      <th>NumberOfSections</th>\n",
       "      <th>TimeDateStamp</th>\n",
       "      <th>SizeOfOptionalHeader</th>\n",
       "      <th>Characteristics</th>\n",
       "      <th>MajorLinkerVersion</th>\n",
       "      <th>...</th>\n",
       "      <th>DllCharacteristics</th>\n",
       "      <th>SuspiciousImportFunctions</th>\n",
       "      <th>SuspiciousNameSection</th>\n",
       "      <th>SectionsLength</th>\n",
       "      <th>SectionMinEntropy</th>\n",
       "      <th>SectionMaxEntropy</th>\n",
       "      <th>SectionMinRawsize</th>\n",
       "      <th>SectionMaxRawsize</th>\n",
       "      <th>SectionMinVirtualsize</th>\n",
       "      <th>SectionMaxVirtualsize</th>\n",
       "    </tr>\n",
       "  </thead>\n",
       "  <tbody>\n",
       "    <tr>\n",
       "      <th>0</th>\n",
       "      <td>-0.603320</td>\n",
       "      <td>-0.104473</td>\n",
       "      <td>-0.084954</td>\n",
       "      <td>0.150231</td>\n",
       "      <td>-0.255503</td>\n",
       "      <td>-0.610592</td>\n",
       "      <td>0.503612</td>\n",
       "      <td>-0.255503</td>\n",
       "      <td>-0.431477</td>\n",
       "      <td>0.026879</td>\n",
       "      <td>...</td>\n",
       "      <td>-1.314629</td>\n",
       "      <td>-0.873110</td>\n",
       "      <td>-0.121952</td>\n",
       "      <td>-0.610592</td>\n",
       "      <td>-0.484881</td>\n",
       "      <td>0.0</td>\n",
       "      <td>-0.047476</td>\n",
       "      <td>0.0</td>\n",
       "      <td>-0.374542</td>\n",
       "      <td>0.0</td>\n",
       "    </tr>\n",
       "    <tr>\n",
       "      <th>1</th>\n",
       "      <td>-0.603320</td>\n",
       "      <td>-0.103222</td>\n",
       "      <td>-0.084954</td>\n",
       "      <td>-0.197718</td>\n",
       "      <td>3.913845</td>\n",
       "      <td>-0.081117</td>\n",
       "      <td>0.058121</td>\n",
       "      <td>3.913845</td>\n",
       "      <td>-0.404390</td>\n",
       "      <td>-0.359098</td>\n",
       "      <td>...</td>\n",
       "      <td>0.760157</td>\n",
       "      <td>-0.873110</td>\n",
       "      <td>-0.121952</td>\n",
       "      <td>-0.081117</td>\n",
       "      <td>-0.771911</td>\n",
       "      <td>0.0</td>\n",
       "      <td>-0.291610</td>\n",
       "      <td>0.0</td>\n",
       "      <td>-0.458567</td>\n",
       "      <td>0.0</td>\n",
       "    </tr>\n",
       "    <tr>\n",
       "      <th>2</th>\n",
       "      <td>0.067243</td>\n",
       "      <td>-0.106412</td>\n",
       "      <td>-0.084954</td>\n",
       "      <td>0.165052</td>\n",
       "      <td>-0.255503</td>\n",
       "      <td>0.977831</td>\n",
       "      <td>0.690574</td>\n",
       "      <td>-0.255503</td>\n",
       "      <td>-0.431568</td>\n",
       "      <td>0.798831</td>\n",
       "      <td>...</td>\n",
       "      <td>0.760157</td>\n",
       "      <td>-0.204781</td>\n",
       "      <td>-0.121952</td>\n",
       "      <td>0.977831</td>\n",
       "      <td>1.648577</td>\n",
       "      <td>0.0</td>\n",
       "      <td>0.126905</td>\n",
       "      <td>0.0</td>\n",
       "      <td>-0.090113</td>\n",
       "      <td>0.0</td>\n",
       "    </tr>\n",
       "    <tr>\n",
       "      <th>3</th>\n",
       "      <td>0.067243</td>\n",
       "      <td>-0.099339</td>\n",
       "      <td>-0.084954</td>\n",
       "      <td>0.109033</td>\n",
       "      <td>-0.255503</td>\n",
       "      <td>-0.610592</td>\n",
       "      <td>-2.349141</td>\n",
       "      <td>-0.255503</td>\n",
       "      <td>-0.430390</td>\n",
       "      <td>-0.359098</td>\n",
       "      <td>...</td>\n",
       "      <td>-1.314629</td>\n",
       "      <td>-0.739444</td>\n",
       "      <td>-0.121952</td>\n",
       "      <td>-0.610592</td>\n",
       "      <td>-0.782509</td>\n",
       "      <td>0.0</td>\n",
       "      <td>-0.326486</td>\n",
       "      <td>0.0</td>\n",
       "      <td>0.290922</td>\n",
       "      <td>0.0</td>\n",
       "    </tr>\n",
       "    <tr>\n",
       "      <th>4</th>\n",
       "      <td>-0.603320</td>\n",
       "      <td>-0.104593</td>\n",
       "      <td>-0.084954</td>\n",
       "      <td>0.053922</td>\n",
       "      <td>-0.255503</td>\n",
       "      <td>-1.140066</td>\n",
       "      <td>0.676308</td>\n",
       "      <td>-0.255503</td>\n",
       "      <td>-0.431568</td>\n",
       "      <td>0.605843</td>\n",
       "      <td>...</td>\n",
       "      <td>0.824367</td>\n",
       "      <td>-0.873110</td>\n",
       "      <td>-0.121952</td>\n",
       "      <td>-1.140066</td>\n",
       "      <td>-0.729550</td>\n",
       "      <td>0.0</td>\n",
       "      <td>-0.291610</td>\n",
       "      <td>0.0</td>\n",
       "      <td>-0.458342</td>\n",
       "      <td>0.0</td>\n",
       "    </tr>\n",
       "  </tbody>\n",
       "</table>\n",
       "<p>5 rows × 36 columns</p>\n",
       "</div>"
      ],
      "text/plain": [
       "   FileType  SizeOfData  VirtualAddress   Entropy     Magic  NumberOfSections  \\\n",
       "0 -0.603320   -0.104473       -0.084954  0.150231 -0.255503         -0.610592   \n",
       "1 -0.603320   -0.103222       -0.084954 -0.197718  3.913845         -0.081117   \n",
       "2  0.067243   -0.106412       -0.084954  0.165052 -0.255503          0.977831   \n",
       "3  0.067243   -0.099339       -0.084954  0.109033 -0.255503         -0.610592   \n",
       "4 -0.603320   -0.104593       -0.084954  0.053922 -0.255503         -1.140066   \n",
       "\n",
       "   TimeDateStamp  SizeOfOptionalHeader  Characteristics  MajorLinkerVersion  \\\n",
       "0       0.503612             -0.255503        -0.431477            0.026879   \n",
       "1       0.058121              3.913845        -0.404390           -0.359098   \n",
       "2       0.690574             -0.255503        -0.431568            0.798831   \n",
       "3      -2.349141             -0.255503        -0.430390           -0.359098   \n",
       "4       0.676308             -0.255503        -0.431568            0.605843   \n",
       "\n",
       "   ...  DllCharacteristics  SuspiciousImportFunctions  SuspiciousNameSection  \\\n",
       "0  ...           -1.314629                  -0.873110              -0.121952   \n",
       "1  ...            0.760157                  -0.873110              -0.121952   \n",
       "2  ...            0.760157                  -0.204781              -0.121952   \n",
       "3  ...           -1.314629                  -0.739444              -0.121952   \n",
       "4  ...            0.824367                  -0.873110              -0.121952   \n",
       "\n",
       "   SectionsLength  SectionMinEntropy  SectionMaxEntropy  SectionMinRawsize  \\\n",
       "0       -0.610592          -0.484881                0.0          -0.047476   \n",
       "1       -0.081117          -0.771911                0.0          -0.291610   \n",
       "2        0.977831           1.648577                0.0           0.126905   \n",
       "3       -0.610592          -0.782509                0.0          -0.326486   \n",
       "4       -1.140066          -0.729550                0.0          -0.291610   \n",
       "\n",
       "   SectionMaxRawsize  SectionMinVirtualsize  SectionMaxVirtualsize  \n",
       "0                0.0              -0.374542                    0.0  \n",
       "1                0.0              -0.458567                    0.0  \n",
       "2                0.0              -0.090113                    0.0  \n",
       "3                0.0               0.290922                    0.0  \n",
       "4                0.0              -0.458342                    0.0  \n",
       "\n",
       "[5 rows x 36 columns]"
      ]
     },
     "execution_count": 96,
     "metadata": {},
     "output_type": "execute_result"
    }
   ],
   "source": [
    "#accuracy is quite low using Naive Bayes algorithm.\n",
    "#creating new dataframe to implement Random Forest Classifier\n",
    "X_new = pd.DataFrame(X_scaled, columns=X.columns)\n",
    "X_new.head()"
   ]
  },
  {
   "cell_type": "code",
   "execution_count": 97,
   "id": "90f47877",
   "metadata": {},
   "outputs": [
    {
     "name": "stdout",
     "output_type": "stream",
     "text": [
      "Variance sum :  1.0\n"
     ]
    }
   ],
   "source": [
    "#using Principal Component Analysis to increase interpretability\n",
    "from sklearn.decomposition import PCA\n",
    "skpca = PCA(n_components=36)\n",
    "X_pca = skpca.fit_transform(X_new)\n",
    "print('Variance sum : ', skpca.explained_variance_ratio_.cumsum()[-1])"
   ]
  },
  {
   "cell_type": "code",
   "execution_count": 98,
   "id": "8dea23b5",
   "metadata": {},
   "outputs": [],
   "source": [
    "from sklearn.ensemble import RandomForestClassifier as RFC\n",
    "from sklearn.metrics import classification_report, confusion_matrix"
   ]
  },
  {
   "cell_type": "code",
   "execution_count": 99,
   "id": "179d98a3",
   "metadata": {},
   "outputs": [
    {
     "name": "stdout",
     "output_type": "stream",
     "text": [
      "              precision    recall  f1-score   support\n",
      "\n",
      "           0       0.62      0.45      0.52        47\n",
      "           1       0.54      0.70      0.61        43\n",
      "\n",
      "    accuracy                           0.57        90\n",
      "   macro avg       0.58      0.57      0.56        90\n",
      "weighted avg       0.58      0.57      0.56        90\n",
      "\n"
     ]
    }
   ],
   "source": [
    "model = RFC(n_estimators=100, random_state=0, \n",
    "                         oob_score = True,\n",
    "                         max_depth = 16, \n",
    "                         max_features = 'sqrt')\n",
    "model.fit(X_pca, Y_train)\n",
    "\n",
    "X_test_scaled = scaler.transform(X_test)\n",
    "X_test_new = pd.DataFrame(X_test_scaled, columns=X.columns)\n",
    "X_test_pca = skpca.transform(X_test_new)\n",
    "\n",
    "Y_pred = model.predict(X_test_pca)\n",
    "print(classification_report(Y_pred, Y_test))"
   ]
  },
  {
   "cell_type": "code",
   "execution_count": 100,
   "id": "9070ffba",
   "metadata": {},
   "outputs": [
    {
     "name": "stdout",
     "output_type": "stream",
     "text": [
      "Random Forest model accuracy(in %): 56.666666666666664\n"
     ]
    }
   ],
   "source": [
    "print(\"Random Forest model accuracy(in %):\", metrics.accuracy_score(Y_test, Y_pred)*100)"
   ]
  },
  {
   "cell_type": "code",
   "execution_count": 101,
   "id": "7468fb27",
   "metadata": {},
   "outputs": [
    {
     "data": {
      "text/plain": [
       "<AxesSubplot:>"
      ]
     },
     "execution_count": 101,
     "metadata": {},
     "output_type": "execute_result"
    },
    {
     "data": {
      "image/png": "[encoded data removed]",
      "text/plain": [
       "<Figure size 640x480 with 1 Axes>"
      ]
     },
     "metadata": {},
     "output_type": "display_data"
    }
   ],
   "source": [
    "sns.heatmap(confusion_matrix(Y_pred, Y_test), annot=True, fmt=\"d\", cmap=plt.cm.Blues, cbar=False)"
   ]
  },
  {
   "cell_type": "code",
   "execution_count": 102,
   "id": "6a543bf1",
   "metadata": {},
   "outputs": [
    {
     "name": "stdout",
     "output_type": "stream",
     "text": [
      "Accuracy: 37.77777777777778\n"
     ]
    },
    {
     "name": "stderr",
     "output_type": "stream",
     "text": [
      "C:\\Users\\CICI\\anaconda3\\lib\\site-packages\\sklearn\\base.py:443: UserWarning: X has feature names, but DecisionTreeClassifier was fitted without feature names\n",
      "  warnings.warn(\n"
     ]
    }
   ],
   "source": [
    "#accuracy of 97% is obtained using Random Forest Classifier\n",
    "#trying DecisionTreeClassifier\n",
    "from sklearn.tree import DecisionTreeClassifier\n",
    "from sklearn import metrics\n",
    "clf = DecisionTreeClassifier()\n",
    "clf = clf.fit(X_scaled,Y_train)\n",
    "Y_pred = clf.predict(X_test)\n",
    "print(\"Accuracy:\",metrics.accuracy_score(Y_test, Y_pred)*100)"
   ]
  },
  {
   "cell_type": "code",
   "execution_count": 103,
   "id": "0bf034c6",
   "metadata": {},
   "outputs": [
    {
     "name": "stdout",
     "output_type": "stream",
     "text": [
      "Decision Tree Classifier accuracy(in %): 37.77777777777778\n"
     ]
    }
   ],
   "source": [
    "print(\"Decision Tree Classifier accuracy(in %):\", metrics.accuracy_score(Y_test, Y_pred)*100)"
   ]
  },
  {
   "cell_type": "code",
   "execution_count": 104,
   "id": "ccbf24ec",
   "metadata": {},
   "outputs": [
    {
     "name": "stdout",
     "output_type": "stream",
     "text": [
      "[[105 116]\n",
      " [118 110]]\n"
     ]
    }
   ],
   "source": [
    "#accuracy of 37.78%\n",
    "#using Linear SVC Classifier\n",
    "#scaling initial data again\n",
    "X_scaled=scaler.fit_transform(X)\n",
    "from sklearn.svm import SVC\n",
    "from sklearn.model_selection import cross_val_predict\n",
    "\n",
    "svm=SVC(kernel=\"linear\")\n",
    "Y_pred = cross_val_predict(svm, X_scaled, Y, cv=10)\n",
    "conf_mat = confusion_matrix(Y, Y_pred)\n",
    "print(conf_mat)"
   ]
  },
  {
   "cell_type": "code",
   "execution_count": 105,
   "id": "53c7212b",
   "metadata": {},
   "outputs": [
    {
     "name": "stdout",
     "output_type": "stream",
     "text": [
      "Linear SVC Classifier accuracy(in %): 47.88418708240535\n"
     ]
    }
   ],
   "source": [
    "print(\"Linear SVC Classifier accuracy(in %):\", metrics.accuracy_score(Y, Y_pred)*100)"
   ]
  },
  {
   "cell_type": "code",
   "execution_count": null,
   "id": "7c3b3daa",
   "metadata": {},
   "outputs": [],
   "source": []
  }
 ],
 "metadata": {
  "kernelspec": {
   "display_name": "Python 3 (ipykernel)",
   "language": "python",
   "name": "python3"
  },
  "language_info": {
   "codemirror_mode": {
    "name": "ipython",
    "version": 3
   },
   "file_extension": ".py",
   "mimetype": "text/x-python",
   "name": "python",
   "nbconvert_exporter": "python",
   "pygments_lexer": "ipython3",
   "version": "3.9.13"
  }
 },
 "nbformat": 4,
 "nbformat_minor": 5
}
